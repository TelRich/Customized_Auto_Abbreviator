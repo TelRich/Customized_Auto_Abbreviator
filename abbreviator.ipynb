{
 "cells": [
  {
   "cell_type": "markdown",
   "metadata": {},
   "source": [
    "### MODIFICATION\n"
   ]
  },
  {
   "cell_type": "code",
   "execution_count": 4,
   "metadata": {},
   "outputs": [],
   "source": [
    "def Abbreviator(txt_file):\n",
    "    \"\"\"This script is designed to read a text file (txt) containing list\n",
    "    of names of some kind and generate three-letter abbreviations for each of these objects.\n",
    "    Some functions was created to help achieve this.\n",
    "    \"\"\"\n",
    "    # Import random and set seed to 1\n",
    "    import random\n",
    "    random.seed(1)\n",
    "\n",
    "    \"\"\"Function to remove all apostrophes from each names in the list.\n",
    "    It clean the names for further processes. \n",
    "    \"\"\"\n",
    "    # List of non-letter characters that are likely used for compound words\n",
    "    others = [\"-\", \"_\"]\n",
    "    def remove_punctuation(filename):\n",
    "        with open(filename, 'r', encoding='utf-8') as open_file:\n",
    "            content = open_file.read().split('\\n')\n",
    "            # dictionary of non-letter characters that are likely to exist in names\n",
    "        punctuation = {\n",
    "            \"'\":\"\",\n",
    "            \"+\":\"\",\n",
    "            \"!\":\"\",\n",
    "            \"’\":\"\",\n",
    "            \"`\":\"\"\n",
    "        }\n",
    "        no_punctuation = []\n",
    "        # Looping through each word and removing non-letter characters defined in the dictionary\n",
    "        for i in content:\n",
    "            remv_punc = i.translate(str.maketrans(punctuation)).upper()\n",
    "            no_punctuation.append(remv_punc)\n",
    "        no_punctuation\n",
    "        return no_punctuation\n",
    "\n",
    "    \"\"\"Function to detect any compound word with a non-letter joining them, like those defined\n",
    "    in the variable (others) above. Once it detects such, it split the word by that character. \n",
    "    For words that are single or does not have a non-letter joining them, the function returns \n",
    "    a list of word, seperated if more than one.  \n",
    "    \"\"\"\n",
    "    def seperate_compound(word):\n",
    "        vc = []\n",
    "        vc1 = []\n",
    "        if len(word.split()) > 1:\n",
    "            # Loops through the cleaned names and split by space first \n",
    "            for x in word.split():\n",
    "                for s in others:\n",
    "                    # Checking if the charaters in others is in any of the splitted words \n",
    "                    if s in x:\n",
    "                        # Split the word by that charater found in the word\n",
    "                        d=x.split(s)\n",
    "                        # Add the splitted word to the list defined above\n",
    "                        vc  += d\n",
    "                    else:\n",
    "                        pass\n",
    "            # Add word that did not fall in the if statement above to the list.\n",
    "            vc.append(x)\n",
    "        elif len(word.split()) == 1:\n",
    "            for x in word.split():\n",
    "                for s in others:\n",
    "                    if s in x:\n",
    "                        d=x.split(s)\n",
    "                vc+=d\n",
    "        return vc\n",
    "\n",
    "    \"\"\"Function to select unique index number from words after removing the first character. \n",
    "    This index are arranged in ascending order to obey the rule where two further letters in \n",
    "    name are selected in order \n",
    "    \"\"\"\n",
    "    def uniq_ind(joined_word):\n",
    "        index = []\n",
    "        # generate random numbers that fall in the range of the current word\n",
    "        gen = random.randint(0, len(joined_word)-1)\n",
    "        for x in range(2):\n",
    "            while gen in index:\n",
    "                gen = random.randint(0, len(joined_word)-1)\n",
    "            index.append(gen)\n",
    "        # Sort the numbers generated in ascending order\n",
    "        index.sort()\n",
    "        return index\n",
    "        \n",
    "    \"\"\"Function to make abbreviations. It loops through each word in the list and extract the \n",
    "    first letter as a constant, followed by two further letters with the help of the previous \n",
    "    function.\n",
    "    \"\"\"\n",
    "    def extract_letters(lst):\n",
    "        # Empty list to hold abbreviation strings\n",
    "        all_abbre = []\n",
    "        # Empty list to hold the remaining letters after removing the first letter.\n",
    "        part = []\n",
    "        all_abbre.append(lst[0][0])\n",
    "        for each in lst:\n",
    "            first_out = each[1:]\n",
    "            part.append(first_out)\n",
    "        joined = ''.join(part)\n",
    "        joined = joined.replace(' ', '')\n",
    "        ind = uniq_ind(joined)\n",
    "        # Adding two letter to the list with the index number generated\n",
    "        all_abbre.append(joined[ind[0]])\n",
    "        all_abbre.append(joined[ind[1]])\n",
    "        str_abb = ''.join(all_abbre)\n",
    "        return str_abb\n",
    "\n",
    "    \"\"\"Here, all functions created above are put to use to perform the task. \n",
    "    \"\"\"\n",
    "    # Remove apostrophes and non-letter character\n",
    "    new_word = remove_punctuation(txt_file)\n",
    "    # Empty list to hold the new results, words followed by its abbreviation.\n",
    "    abb_let = []\n",
    "    part = []\n",
    "    # loop through the clean names, seperate any joined words, and extract letters.\n",
    "    # Add results to the empty list above.\n",
    "    for word in new_word:\n",
    "        string = ''\n",
    "        if any(x in word for x in others):\n",
    "            sep = seperate_compound(word=word)\n",
    "            abb_let.append(sep)\n",
    "            if len(sep) > 2:\n",
    "                string += sep[0][0] + sep[1][0] + sep[2][0]\n",
    "                part.append(word)\n",
    "                part.append(string)\n",
    "            elif len(sep) == 2:\n",
    "                string += sep[0][0] + sep[1][0] + sep[1][1]\n",
    "                part.append(word)\n",
    "                part.append(string)\n",
    "        else:\n",
    "            each = word.split() \n",
    "            if len(each) > 2: \n",
    "                string += each[0][0] + each[1][0] + each[2][0]\n",
    "                part.append(word)\n",
    "                part.append(string)\n",
    "            elif len(each) == 2:\n",
    "                string += each[0][0] + each[1][0] + each[1][1]\n",
    "                part.append(word)\n",
    "                part.append(string)\n",
    "            elif len(each) == 1:\n",
    "                abr = extract_letters(each)\n",
    "                part.append(word)\n",
    "                part.append(abr)\n",
    "    print(part)\n",
    "\n",
    "    # Creating file output name as per requirements\n",
    "    input_name = txt_file.split('.')[0]\n",
    "    sur_name = 'Omidiji'\n",
    "    output_name = (f'{sur_name.lower()}_{input_name.lower()}_abbrevs.txt')\n",
    "    \n",
    "    # writing the results to the created file above\n",
    "    with open(output_name, 'w') as file:\n",
    "        file.write('\\n'.join(part)) "
   ]
  },
  {
   "cell_type": "code",
   "execution_count": 5,
   "metadata": {},
   "outputs": [
    {
     "name": "stdout",
     "output_type": "stream",
     "text": [
      "['ALDER', 'ALD', 'CRAB APPLE', 'CAP', 'COMMON ASH', 'CAS', 'SILVER BIRCH', 'SBI', 'DOWNY BIRCH', 'DBI', 'EUROPEAN BEECH', 'EBE', 'BOX', 'BOX', 'WILD CHERRY', 'WCH', 'BIRD CHERRY', 'BCH', 'BLACKTHORN', 'BOR', 'WYCH ELM', 'WEL', 'SMOOTH-LEAVED ELM', 'SLE', 'COMMON HAWTHORN', 'CHA', 'MIDLAND HAWTHORN', 'MHA', 'COMMON HAZEL', 'CHA', 'EUROPEAN HORNBEAM', 'EHO', 'EUROPEAN HOLLY', 'EHO', 'COMMON JUNIPER', 'CJU', 'SMALL-LEAVED LIME', 'SLL', 'LARGE-LEAVED LIME', 'LLL', 'FIELD MAPLE', 'FMA', 'PEDUNCULATE OAK', 'POA', 'SESSILE OAK', 'SOA', 'SCOTS PINE', 'SPI', 'ASPEN', 'ASP', 'BLACK POPLAR', 'BPO', 'EUROPEAN ROWAN', 'ERO', 'COMMON WHITEBEAM', 'CWH', 'SERVICE TREE', 'STR', 'WILD SERVICE TREE', 'WST', 'STRAWBERRY TREE', 'STR', 'BAY WILLOW', 'BWI', 'CRACK WILLOW', 'CWI', 'WHITE WILLOW', 'WWI', 'ALMOND-LEAVED WILLOW', 'ALW', 'EUROPEAN YEW', 'EYE', 'ALDER BUCKTHORN', 'ABU', 'PURGING BUCKTHORN', 'PBU', 'ELDER', 'ELR', 'COMMON DOGWOOD', 'CDO', 'ROCK WHITEBEAM', 'RWH', 'SEA-BUCKTHORN', 'SBU', 'SPINDLE', 'SDL', 'SALLOW', 'SAO', 'GREY WILLOW', 'GWI', 'PURPLE WILLOW', 'PWI', 'COMMON OSIER', 'COS', 'EARED WILLOW', 'EWI', 'GUELDER ROSE', 'GRO', 'WAYFARING TREE', 'WTR', 'COMMON PRIVET', 'CPR', 'PLOTS ELM', 'PEL']\n"
     ]
    }
   ],
   "source": [
    "Abbreviator(txt_file='names.txt')\n"
   ]
  },
  {
   "cell_type": "markdown",
   "metadata": {},
   "source": [
    "## Final Code"
   ]
  },
  {
   "cell_type": "code",
   "execution_count": 72,
   "metadata": {},
   "outputs": [],
   "source": [
    "def Abbreviator(txt_file):\n",
    "    \"\"\"This script is designed to read a text file (txt) containing list\n",
    "    of names of some kind and generate three-letter abbreviations for each of these objects.\n",
    "    Some functions was created to help achieve this.\n",
    "    \"\"\"\n",
    "    # Import random and set seed to 1\n",
    "    import random\n",
    "    random.seed(1)\n",
    "\n",
    "    \"\"\"Function to remove all apostrophes from each names in the list.\n",
    "    It clean the names for further processes. \n",
    "    \"\"\"\n",
    "    # List of non-letter characters that are likely used for compound words\n",
    "    others = [\"-\", \"_\"]\n",
    "    def remove_punctuation(filename):\n",
    "        with open(filename, 'r', encoding='utf-8') as open_file:\n",
    "            content = open_file.read().split('\\n')\n",
    "            # dictionary of non-letter characters that are likely to exist in names\n",
    "        punctuation = {\n",
    "            \"'\":\"\",\n",
    "            \"+\":\"\",\n",
    "            \"!\":\"\",\n",
    "            \"’\":\"\",\n",
    "            \"`\":\"\"\n",
    "        }\n",
    "        no_punctuation = []\n",
    "        # Looping through each word and removing non-letter characters defined in the dictionary\n",
    "        for i in content:\n",
    "            remv_punc = i.translate(str.maketrans(punctuation)).upper()\n",
    "            no_punctuation.append(remv_punc)\n",
    "        no_punctuation\n",
    "        return no_punctuation\n",
    "\n",
    "    \"\"\"Function to detect any compound word with a non-letter joining them, like those defined\n",
    "    in the variable (others) above. Once it detects such, it split the word by that character. \n",
    "    For words that are single or does not have a non-letter joining them, the function returns \n",
    "    a list of word, seperated if more than one.  \n",
    "    \"\"\"\n",
    "    def seperate_compound(word):\n",
    "        vc = []\n",
    "        # Loops through the cleaned names and split by space first \n",
    "        for x in word.split():\n",
    "            for s in others:\n",
    "                # Checking if the charaters in others is in any of the splitted words \n",
    "                if s in x:\n",
    "                    # Split the word by that charater found in the word\n",
    "                    d=x.split(s)\n",
    "                    # Add the splitted word to the list defined above\n",
    "                    vc  += d\n",
    "                else:\n",
    "                    pass\n",
    "        # Add word that did not fall in the if statement above to the list.\n",
    "        vc.append(x)\n",
    "        return vc\n",
    "\n",
    "    \"\"\"Function to select unique index number from words after removing the first character. \n",
    "    This index are arranged in ascending order to obey the rule where two further letters in \n",
    "    name are selected in order \n",
    "    \"\"\"\n",
    "    def uniq_ind(joined_word):\n",
    "        index = []\n",
    "        # generate random numbers that fall in the range of the current word\n",
    "        gen = random.randint(0, len(joined_word)-1)\n",
    "        for x in range(2):\n",
    "            while gen in index:\n",
    "                gen = random.randint(0, len(joined_word)-1)\n",
    "            index.append(gen)\n",
    "        # Sort the numbers generated in ascending order\n",
    "        index.sort()\n",
    "        return index\n",
    "        \n",
    "    \"\"\"Function to make abbreviations. It loops through each word in the list and extract the \n",
    "    first letter as a constant, followed by two further letters with the help of the previous \n",
    "    function.\n",
    "    \"\"\"\n",
    "    def extract_letters(lst):\n",
    "        # Empty list to hold abbreviation strings\n",
    "        all_abbre = []\n",
    "        # Empty list to hold the remaining letters after removing the first letter.\n",
    "        part = []\n",
    "        all_abbre.append(lst[0][0])\n",
    "        for each in lst:\n",
    "            first_out = each[1:]\n",
    "            part.append(first_out)\n",
    "        joined = ''.join(part)\n",
    "        joined = joined.replace(' ', '')\n",
    "        ind = uniq_ind(joined)\n",
    "        # Adding two letter to the list with the index number generated\n",
    "        all_abbre.append(joined[ind[0]])\n",
    "        all_abbre.append(joined[ind[1]])\n",
    "        str_abb = ''.join(all_abbre)\n",
    "        return str_abb\n",
    "\n",
    "    \"\"\"Here, all functions created above are put to use to perform the task. \n",
    "    \"\"\"\n",
    "    # Remove apostrophes and non-letter character\n",
    "    new_word = remove_punctuation(txt_file)\n",
    "    # Empty list to hold the new results, words followed by its abbreviation.\n",
    "    abb_let = []\n",
    "    # loop through the clean names, seperate any joined words, and extract letters.\n",
    "    # Add results to the empty list above.\n",
    "    for word in new_word:\n",
    "        if any(x in word for x in others):\n",
    "            sep = seperate_compound(word=word)\n",
    "            abb = extract_letters(sep)\n",
    "            abb_let.append(word)\n",
    "            abb_let.append(abb)\n",
    "        else:\n",
    "            abb = extract_letters([word])\n",
    "            abb_let.append(word)\n",
    "            abb_let.append(abb)\n",
    "    \n",
    "    # Creating file output name as per requirements\n",
    "    input_name = txt_file.split('.')[0]\n",
    "    sur_name = 'Omidiji'\n",
    "    output_name = (f'{sur_name.lower()}_{input_name.lower()}_abbrevs.txt')\n",
    "    \n",
    "    # writing the results to the created file above\n",
    "    with open(output_name, 'w') as file:\n",
    "        file.write('\\n'.join(abb_let)) "
   ]
  },
  {
   "cell_type": "code",
   "execution_count": 73,
   "metadata": {},
   "outputs": [],
   "source": [
    "Abbreviator(txt_file='names.txt')"
   ]
  },
  {
   "cell_type": "markdown",
   "metadata": {},
   "source": []
  },
  {
   "cell_type": "markdown",
   "metadata": {},
   "source": []
  },
  {
   "cell_type": "markdown",
   "metadata": {},
   "source": []
  },
  {
   "cell_type": "markdown",
   "metadata": {},
   "source": []
  },
  {
   "cell_type": "code",
   "execution_count": 156,
   "metadata": {},
   "outputs": [],
   "source": [
    "others = [\"-\", \"_\"]\n",
    "def remove_punctuation(filename):\n",
    "    with open(filename, 'r', encoding='utf-8') as open_file:\n",
    "        content = open_file.read().split('\\n')\n",
    "        # dictionary of non-letter characters that are likely to exist in names\n",
    "    punctuation = {\n",
    "        \"'\":\"\",\n",
    "        \"+\":\"\",\n",
    "        \"!\":\"\",\n",
    "        \"’\":\"\",\n",
    "        \"`\":\"\"\n",
    "    }\n",
    "    no_punctuation = []\n",
    "    # Looping through each word and removing non-letter characters defined in the dictionary\n",
    "    for i in content:\n",
    "        remv_punc = i.translate(str.maketrans(punctuation)).upper()\n",
    "        no_punctuation.append(remv_punc)\n",
    "    no_punctuation\n",
    "    return no_punctuation\n",
    "\n",
    "def seperate_compound(word):\n",
    "    vc = []\n",
    "    vc1 = []\n",
    "    if len(word.split()) > 1:\n",
    "        # Loops through the cleaned names and split by space first \n",
    "        for x in word.split():\n",
    "            for s in others:\n",
    "                # Checking if the charaters in others is in any of the splitted words \n",
    "                if s in x:\n",
    "                    # Split the word by that charater found in the word\n",
    "                    d=x.split(s)\n",
    "                    # Add the splitted word to the list defined above\n",
    "                    vc  += d\n",
    "                else:\n",
    "                    pass\n",
    "        # Add word that did not fall in the if statement above to the list.\n",
    "        vc.append(x)\n",
    "    elif len(word.split()) == 1:\n",
    "        for x in word.split():\n",
    "            for s in others:\n",
    "                if s in x:\n",
    "                    d=x.split(s)\n",
    "            \n",
    "    return vc + d\n",
    "\n",
    "new_word = remove_punctuation('names.txt')\n",
    "# Empty list to hold the new results, words followed by its abbreviation.\n",
    "abb_let = []\n",
    "new = []\n",
    "part = []\n",
    "# loop through the clean names, seperate any joined words, and extract letters.\n",
    "# Add results to the empty list above.\n",
    "for word in new_word:\n",
    "    string = ''\n",
    "    if any(x in word for x in others):\n",
    "        sep = seperate_compound(word=word)"
   ]
  },
  {
   "cell_type": "code",
   "execution_count": 157,
   "metadata": {},
   "outputs": [
    {
     "data": {
      "text/plain": [
       "['SEA', 'BUCKTHORN']"
      ]
     },
     "execution_count": 157,
     "metadata": {},
     "output_type": "execute_result"
    }
   ],
   "source": [
    "sep"
   ]
  },
  {
   "cell_type": "code",
   "execution_count": null,
   "metadata": {},
   "outputs": [],
   "source": []
  },
  {
   "cell_type": "code",
   "execution_count": null,
   "metadata": {},
   "outputs": [],
   "source": []
  },
  {
   "cell_type": "markdown",
   "metadata": {},
   "source": [
    "### Building Cell"
   ]
  },
  {
   "cell_type": "code",
   "execution_count": 77,
   "metadata": {},
   "outputs": [],
   "source": [
    "def remove_punctuation(filename):\n",
    "    with open(filename, 'r', encoding='utf-8') as open_file:\n",
    "        content = open_file.read().split('\\n')\n",
    "        \n",
    "    punctuation = {\n",
    "        \"'\":\"\",\n",
    "        \"+\":\"\",\n",
    "        \"!\":\"\",\n",
    "        \"’\":\"\",\n",
    "        \"`\":\"\"\n",
    "    }\n",
    "\n",
    "    no_punctuation = []\n",
    "    for i in content:\n",
    "        remv_punc = i.translate(str.maketrans(punctuation)).upper()\n",
    "        no_punctuation.append(remv_punc)\n",
    "    no_punctuation\n",
    "    \n",
    "    return no_punctuation"
   ]
  },
  {
   "cell_type": "code",
   "execution_count": 78,
   "metadata": {},
   "outputs": [
    {
     "data": {
      "text/plain": [
       "['OBJECT-ORIENTED PROGRAMMING',\n",
       " 'MOORES LAW',\n",
       " 'DATA ENGINEERING',\n",
       " 'COLD',\n",
       " 'COOL',\n",
       " 'C CODE',\n",
       " 'OBJECT-ORIENTED PROGRAMMING',\n",
       " 'BEST_SELLING BOOK',\n",
       " 'DATA ENGINEERING',\n",
       " 'ENGLISH']"
      ]
     },
     "execution_count": 78,
     "metadata": {},
     "output_type": "execute_result"
    }
   ],
   "source": [
    "new_word = remove_punctuation('experiment.txt')\n",
    "new_word"
   ]
  },
  {
   "cell_type": "code",
   "execution_count": 79,
   "metadata": {},
   "outputs": [
    {
     "data": {
      "text/plain": [
       "['Objectoriented programming',\n",
       " 'Moores Law',\n",
       " 'Data Engineering',\n",
       " 'Cold',\n",
       " 'Cool',\n",
       " 'C Code',\n",
       " 'Objectoriented programming',\n",
       " 'Bestselling Book',\n",
       " 'Data Engineering',\n",
       " 'English']"
      ]
     },
     "execution_count": 79,
     "metadata": {},
     "output_type": "execute_result"
    }
   ],
   "source": [
    "with open('experiment.txt', 'r', encoding='utf-8') as open_file:\n",
    "    content = open_file.read().split('\\n')\n",
    "    \n",
    "punctuation = {\n",
    "    \"'\":\"\",\n",
    "    \"-\":\"\",\n",
    "    \"_\":\"\",\n",
    "    \"+\":\"\",\n",
    "    \"!\":\"\",\n",
    "    \"’\":\"\"\n",
    "}\n",
    "\n",
    "# str.maketrans(punctuation)\n",
    "no_punctuation = []\n",
    "for i in content:\n",
    "    remv_punc = i.translate(str.maketrans(punctuation))\n",
    "    no_punctuation.append(remv_punc)\n",
    "no_punctuation"
   ]
  },
  {
   "cell_type": "code",
   "execution_count": 80,
   "metadata": {},
   "outputs": [],
   "source": [
    "with open('experiment.txt', 'r', encoding='utf-8') as open_file:\n",
    "    # content = open_file.readlines()\n",
    "    content1 = open_file.read()\n",
    "    "
   ]
  },
  {
   "cell_type": "code",
   "execution_count": 81,
   "metadata": {},
   "outputs": [],
   "source": [
    "# content"
   ]
  },
  {
   "cell_type": "code",
   "execution_count": 82,
   "metadata": {},
   "outputs": [
    {
     "data": {
      "text/plain": [
       "'Object-oriented programming\\nMoore’s Law\\nData Engineering\\nCold\\nCool\\nC++ Code\\nObject-oriented programming\\nBest_selling Book\\nData Engineering\\nEnglish'"
      ]
     },
     "execution_count": 82,
     "metadata": {},
     "output_type": "execute_result"
    }
   ],
   "source": [
    "content1"
   ]
  },
  {
   "cell_type": "code",
   "execution_count": 83,
   "metadata": {},
   "outputs": [
    {
     "data": {
      "text/plain": [
       "['Object-oriented',\n",
       " 'programming',\n",
       " 'Moore’s',\n",
       " 'Law',\n",
       " 'Data',\n",
       " 'Engineering',\n",
       " 'Cold',\n",
       " 'Cool',\n",
       " 'C++',\n",
       " 'Code',\n",
       " 'Object-oriented',\n",
       " 'programming',\n",
       " 'Best_selling',\n",
       " 'Book',\n",
       " 'Data',\n",
       " 'Engineering',\n",
       " 'English']"
      ]
     },
     "execution_count": 83,
     "metadata": {},
     "output_type": "execute_result"
    }
   ],
   "source": [
    "content1.split()"
   ]
  },
  {
   "cell_type": "code",
   "execution_count": 87,
   "metadata": {},
   "outputs": [],
   "source": [
    "import re"
   ]
  },
  {
   "cell_type": "code",
   "execution_count": 88,
   "metadata": {},
   "outputs": [
    {
     "data": {
      "text/plain": [
       "['Object-oriented programming',\n",
       " 'Moore’s Law',\n",
       " 'Data Engineering',\n",
       " 'Cold',\n",
       " 'Cool',\n",
       " 'C++ Code',\n",
       " 'Object-oriented programming',\n",
       " 'Best_selling Book',\n",
       " 'Data Engineering',\n",
       " 'English']"
      ]
     },
     "execution_count": 88,
     "metadata": {},
     "output_type": "execute_result"
    }
   ],
   "source": [
    "each_line = re.split(r'\\n+', content1)\n",
    "each_line"
   ]
  },
  {
   "cell_type": "code",
   "execution_count": null,
   "metadata": {},
   "outputs": [],
   "source": []
  },
  {
   "cell_type": "code",
   "execution_count": 89,
   "metadata": {},
   "outputs": [
    {
     "data": {
      "text/plain": [
       "['Object-oriented', 'programming']"
      ]
     },
     "execution_count": 89,
     "metadata": {},
     "output_type": "execute_result"
    }
   ],
   "source": [
    "each_line[0].split()"
   ]
  },
  {
   "cell_type": "code",
   "execution_count": 90,
   "metadata": {},
   "outputs": [
    {
     "name": "stdout",
     "output_type": "stream",
     "text": [
      "['Object', 'oriented']\n",
      "['Object', 'oriented']\n",
      "['Best', 'selling']\n"
     ]
    },
    {
     "data": {
      "text/plain": [
       "['OBJECT-ORIENTED PROGRAMMING',\n",
       " 'MOORES LAW',\n",
       " 'DATA ENGINEERING',\n",
       " 'COLD',\n",
       " 'COOL',\n",
       " 'C CODE',\n",
       " 'OBJECT-ORIENTED PROGRAMMING',\n",
       " 'BEST_SELLING BOOK',\n",
       " 'DATA ENGINEERING',\n",
       " 'ENGLISH']"
      ]
     },
     "execution_count": 90,
     "metadata": {},
     "output_type": "execute_result"
    }
   ],
   "source": [
    "punctuation = {\n",
    "    \"'\":\"\",\n",
    "    \"+\":\"\",\n",
    "    \"!\":\"\",\n",
    "    \"’\":\"\"\n",
    "}\n",
    "others = [\"-\", \"_\"]\n",
    "# str.maketrans(punctuation)\n",
    "new = []\n",
    "for i in each_line:\n",
    "    vc=[]\n",
    "    for x in i.split():\n",
    "        for s in others:\n",
    "            if s in x:\n",
    "                d=x.split(s)\n",
    "                print(d)\n",
    "                vc  += d\n",
    "            else:\n",
    "                pass\n",
    "    vc.append(x)\n",
    "        \n",
    "    no_punc = i.translate(str.maketrans(punctuation)).upper()\n",
    "    new.append(no_punc)\n",
    "    \n",
    "new"
   ]
  },
  {
   "cell_type": "code",
   "execution_count": 91,
   "metadata": {},
   "outputs": [
    {
     "data": {
      "text/plain": [
       "'Best_selling Book-map'"
      ]
     },
     "execution_count": 91,
     "metadata": {},
     "output_type": "execute_result"
    }
   ],
   "source": [
    "a = ['Best_selling Book-map']\n",
    "a[0]\n"
   ]
  },
  {
   "cell_type": "code",
   "execution_count": 92,
   "metadata": {},
   "outputs": [
    {
     "name": "stdout",
     "output_type": "stream",
     "text": [
      "['Best', 'selling']\n",
      "['Book', 'map']\n",
      "['Best', 'selling', 'Book', 'map']\n"
     ]
    }
   ],
   "source": [
    "b = a[0]\n",
    "vc = []\n",
    "for x in b.split():\n",
    "    for s in others:\n",
    "        if s in x:\n",
    "            d=x.split(s)\n",
    "            print(d)\n",
    "            vc  += d\n",
    "            \n",
    "\n",
    "print(vc)\n",
    "            \n"
   ]
  },
  {
   "cell_type": "code",
   "execution_count": 139,
   "metadata": {},
   "outputs": [
    {
     "name": "stdout",
     "output_type": "stream",
     "text": [
      "['OBJECT', 'ORIENTED']\n",
      "['OBJECT', 'ORIENTED']\n"
     ]
    }
   ],
   "source": [
    "b = new[0]\n",
    "vc = []\n",
    "for x in b.split():\n",
    "    for s in others:\n",
    "        if s in x:\n",
    "            d=x.split(s)\n",
    "            print(d)\n",
    "            vc  += d\n",
    "            \n",
    "\n",
    "print(vc)\n",
    "            \n"
   ]
  },
  {
   "cell_type": "code",
   "execution_count": 141,
   "metadata": {},
   "outputs": [
    {
     "name": "stdout",
     "output_type": "stream",
     "text": [
      "['bed', 'rom']\n"
     ]
    }
   ],
   "source": [
    "f = 'bed-rom'\n",
    "for s in others:\n",
    "    if s in f:\n",
    "        d=f.split(s)\n",
    "        print(d)\n",
    "        "
   ]
  },
  {
   "cell_type": "code",
   "execution_count": 94,
   "metadata": {},
   "outputs": [
    {
     "data": {
      "text/plain": [
       "['OBJECT', 'ORIENTED']"
      ]
     },
     "execution_count": 94,
     "metadata": {},
     "output_type": "execute_result"
    }
   ],
   "source": [
    "vc"
   ]
  },
  {
   "cell_type": "code",
   "execution_count": 95,
   "metadata": {},
   "outputs": [
    {
     "data": {
      "text/plain": [
       "['OBJECT', 'ORIENTED']"
      ]
     },
     "execution_count": 95,
     "metadata": {},
     "output_type": "execute_result"
    }
   ],
   "source": [
    "vc"
   ]
  },
  {
   "cell_type": "code",
   "execution_count": 96,
   "metadata": {},
   "outputs": [
    {
     "data": {
      "text/plain": [
       "['OBJECT-ORIENTED PROGRAMMING',\n",
       " 'MOORES LAW',\n",
       " 'DATA ENGINEERING',\n",
       " 'COLD',\n",
       " 'COOL',\n",
       " 'C CODE',\n",
       " 'OBJECT-ORIENTED PROGRAMMING',\n",
       " 'BEST_SELLING BOOK',\n",
       " 'DATA ENGINEERING',\n",
       " 'ENGLISH']"
      ]
     },
     "execution_count": 96,
     "metadata": {},
     "output_type": "execute_result"
    }
   ],
   "source": [
    "new"
   ]
  },
  {
   "cell_type": "code",
   "execution_count": 97,
   "metadata": {},
   "outputs": [
    {
     "data": {
      "text/plain": [
       "'Moores Law'"
      ]
     },
     "execution_count": 97,
     "metadata": {},
     "output_type": "execute_result"
    }
   ],
   "source": [
    "each_line[1].translate(str.maketrans(punctuation))"
   ]
  },
  {
   "cell_type": "code",
   "execution_count": 98,
   "metadata": {},
   "outputs": [
    {
     "name": "stdout",
     "output_type": "stream",
     "text": [
      "bobby-hadz_com\n"
     ]
    }
   ],
   "source": [
    "string = 'bobby!hadz@com'\n",
    "\n",
    "replacements_dict = {\n",
    "    '!': '-',\n",
    "    '@': '_'\n",
    "}\n",
    "\n",
    "string = string.translate(str.maketrans(replacements_dict))\n",
    "\n",
    "print(string) \n"
   ]
  },
  {
   "cell_type": "code",
   "execution_count": 99,
   "metadata": {},
   "outputs": [
    {
     "name": "stdout",
     "output_type": "stream",
     "text": [
      "!\n",
      "@\n"
     ]
    }
   ],
   "source": [
    "string = 'bobby!hadz@com'\n",
    "\n",
    "replacements = [('!', '-'), ('@', '_')]\n",
    "\n",
    "for char, replacement in replacements:\n",
    "    print(char)\n",
    "#     if char in string:\n",
    "#         string = string.replace(char, replacement)\n",
    "\n",
    "# print(string)  # 👉️ bobby-hadz_com\n"
   ]
  },
  {
   "cell_type": "code",
   "execution_count": 100,
   "metadata": {},
   "outputs": [
    {
     "data": {
      "text/plain": [
       "['OBJECT-ORIENTED PROGRAMMING',\n",
       " 'MOORES LAW',\n",
       " 'DATA ENGINEERING',\n",
       " 'COLD',\n",
       " 'COOL',\n",
       " 'C CODE',\n",
       " 'OBJECT-ORIENTED PROGRAMMING',\n",
       " 'BEST_SELLING BOOK',\n",
       " 'DATA ENGINEERING',\n",
       " 'ENGLISH']"
      ]
     },
     "execution_count": 100,
     "metadata": {},
     "output_type": "execute_result"
    }
   ],
   "source": [
    "new_word"
   ]
  },
  {
   "cell_type": "code",
   "execution_count": 101,
   "metadata": {},
   "outputs": [
    {
     "name": "stdout",
     "output_type": "stream",
     "text": [
      "['Object', 'oriented', 'programming']\n",
      "['Law']\n",
      "['Engineering']\n",
      "['Cold']\n",
      "['Cool']\n",
      "['Code']\n",
      "['Object', 'oriented', 'programming']\n",
      "['Best', 'selling', 'Book']\n",
      "['Engineering']\n",
      "['English']\n"
     ]
    },
    {
     "data": {
      "text/plain": [
       "['English']"
      ]
     },
     "execution_count": 101,
     "metadata": {},
     "output_type": "execute_result"
    }
   ],
   "source": [
    "punctuation = {\n",
    "    \"'\":\"\",\n",
    "    \"+\":\"\",\n",
    "    \"!\":\"\",\n",
    "    \"’\":\"\"\n",
    "}\n",
    "others = [\"-\", \"_\"]\n",
    "# str.maketrans(punctuation)\n",
    "new = []\n",
    "for i in each_line:\n",
    "    vc=[]\n",
    "    for x in i.split():\n",
    "        for s in others:\n",
    "            if s in x:\n",
    "                d=x.split(s)\n",
    "                # print(d)\n",
    "                vc  += d\n",
    "            else:\n",
    "                pass\n",
    "    vc.append(x)\n",
    "    print(vc)\n",
    "        \n",
    "    no_punc = i.translate(str.maketrans(punctuation)).upper()\n",
    "    new.append(no_punc)\n",
    "    \n",
    "vc"
   ]
  },
  {
   "cell_type": "code",
   "execution_count": 102,
   "metadata": {},
   "outputs": [],
   "source": [
    "import random"
   ]
  },
  {
   "cell_type": "code",
   "execution_count": 103,
   "metadata": {},
   "outputs": [],
   "source": [
    "def seperate_compound(word):\n",
    "    vc = []\n",
    "    for x in word.split():\n",
    "        for s in others:\n",
    "            if s in x:\n",
    "                d=x.split(s)\n",
    "                vc  += d\n",
    "            else:\n",
    "                pass\n",
    "    vc.append(x)\n",
    "    return vc\n",
    "\n",
    "def uniq_ind(joined_word):\n",
    "    index = []\n",
    "    gen = random.randint(0, len(joined_word)-1)\n",
    "    for x in range(2):\n",
    "        while gen in index:\n",
    "            gen = random.randint(0, len(joined_word)-1)\n",
    "        index.append(gen)\n",
    "    index.sort()\n",
    "    \n",
    "    return index\n",
    "    \n",
    "\n",
    "def extract_letters(lst):\n",
    "    all_abbre = []\n",
    "    part = []\n",
    "    all_abbre.append(lst[0][0])\n",
    "    for each in lst:\n",
    "        first_out = each[1:]\n",
    "        part.append(first_out)\n",
    "    joined = ''.join(part)\n",
    "    joined = joined.replace(' ', '')\n",
    "    ind = uniq_ind(joined)\n",
    "    all_abbre.append(joined[ind[0]])\n",
    "    all_abbre.append(joined[ind[1]])\n",
    "    str_abb = ''.join(all_abbre)\n",
    "    \n",
    "    return str_abb\n",
    "\n"
   ]
  },
  {
   "cell_type": "code",
   "execution_count": 104,
   "metadata": {},
   "outputs": [
    {
     "data": {
      "text/plain": [
       "['OBJECT', 'ORIENTED', 'PROGRAMMING']"
      ]
     },
     "execution_count": 104,
     "metadata": {},
     "output_type": "execute_result"
    }
   ],
   "source": [
    "xc = 'OBJECT-ORIENTED PROGRAMMING'\n",
    "seperate_compound(xc)"
   ]
  },
  {
   "cell_type": "code",
   "execution_count": 105,
   "metadata": {},
   "outputs": [
    {
     "data": {
      "text/plain": [
       "['OTM', 'MOS', 'DTN', 'CLD', 'COO', 'CCE', 'OBR', 'BIO', 'DAN', 'EIH']"
      ]
     },
     "execution_count": 105,
     "metadata": {},
     "output_type": "execute_result"
    }
   ],
   "source": [
    "import pandas as pd\n",
    "import re\n",
    "import random\n",
    "\n",
    "others = [\"-\", \"_\"]\n",
    "def remove_punctuation(filename):\n",
    "    with open(filename, 'r', encoding='utf-8') as open_file:\n",
    "        content = open_file.read().split('\\n')\n",
    "    punctuation = {\n",
    "        \"'\":\"\",\n",
    "        \"+\":\"\",\n",
    "        \"!\":\"\",\n",
    "        \"’\":\"\",\n",
    "        \"`\":\"\"\n",
    "    }\n",
    "    no_punctuation = []\n",
    "    for i in content:\n",
    "        remv_punc = i.translate(str.maketrans(punctuation)).upper()\n",
    "        no_punctuation.append(remv_punc)\n",
    "    no_punctuation\n",
    "    return no_punctuation\n",
    "\n",
    "def seperate_compound(word):\n",
    "    vc = []\n",
    "    for x in word.split():\n",
    "        for s in others:\n",
    "            if s in x:\n",
    "                d=x.split(s)\n",
    "                vc  += d\n",
    "            else:\n",
    "                pass\n",
    "    vc.append(x)\n",
    "    return vc\n",
    "\n",
    "def uniq_ind(joined_word):\n",
    "    index = []\n",
    "    gen = random.randint(0, len(joined_word)-1)\n",
    "    for x in range(2):\n",
    "        while gen in index:\n",
    "            gen = random.randint(0, len(joined_word)-1)\n",
    "        index.append(gen)\n",
    "    index.sort()\n",
    "    return index\n",
    "    \n",
    "def extract_letters(lst):\n",
    "    all_abbre = []\n",
    "    part = []\n",
    "    all_abbre.append(lst[0][0])\n",
    "    for each in lst:\n",
    "        first_out = each[1:]\n",
    "        part.append(first_out)\n",
    "    joined = ''.join(part)\n",
    "    joined = joined.replace(' ', '')\n",
    "    ind = uniq_ind(joined)\n",
    "    all_abbre.append(joined[ind[0]])\n",
    "    all_abbre.append(joined[ind[1]])\n",
    "    str_abb = ''.join(all_abbre)\n",
    "    return str_abb\n",
    "\n",
    "new_word = remove_punctuation('experiment.txt')\n",
    "abb_let = []\n",
    "for word in new_word:\n",
    "    if any(x in word for x in others):\n",
    "        sep = seperate_compound(word=word)\n",
    "        abb = extract_letters(sep)\n",
    "        abb_let.append(abb)\n",
    "    else:\n",
    "        abb = extract_letters([word])\n",
    "        abb_let.append(abb)\n",
    "\n",
    "abb_let"
   ]
  },
  {
   "cell_type": "code",
   "execution_count": 106,
   "metadata": {},
   "outputs": [],
   "source": [
    "def Abbreviator(txt_file):\n",
    "    import pandas as pd\n",
    "    import re\n",
    "    import random\n",
    "\n",
    "    others = [\"-\", \"_\"]\n",
    "    def remove_punctuation(filename):\n",
    "        with open(filename, 'r', encoding='utf-8') as open_file:\n",
    "            content = open_file.read().split('\\n')\n",
    "        punctuation = {\n",
    "            \"'\":\"\",\n",
    "            \"+\":\"\",\n",
    "            \"!\":\"\",\n",
    "            \"’\":\"\",\n",
    "            \"`\":\"\"\n",
    "        }\n",
    "        no_punctuation = []\n",
    "        for i in content:\n",
    "            remv_punc = i.translate(str.maketrans(punctuation)).upper()\n",
    "            no_punctuation.append(remv_punc)\n",
    "        no_punctuation\n",
    "        return no_punctuation\n",
    "\n",
    "    def seperate_compound(word):\n",
    "        vc = []\n",
    "        for x in word.split():\n",
    "            for s in others:\n",
    "                if s in x:\n",
    "                    d=x.split(s)\n",
    "                    vc  += d\n",
    "                else:\n",
    "                    pass\n",
    "        vc.append(x)\n",
    "        return vc\n",
    "\n",
    "    def uniq_ind(joined_word):\n",
    "        index = []\n",
    "        gen = random.randint(0, len(joined_word)-1)\n",
    "        for x in range(2):\n",
    "            while gen in index:\n",
    "                gen = random.randint(0, len(joined_word)-1)\n",
    "            index.append(gen)\n",
    "        index.sort()\n",
    "        return index\n",
    "        \n",
    "    def extract_letters(lst):\n",
    "        all_abbre = []\n",
    "        part = []\n",
    "        all_abbre.append(lst[0][0])\n",
    "        for each in lst:\n",
    "            first_out = each[1:]\n",
    "            part.append(first_out)\n",
    "        joined = ''.join(part)\n",
    "        joined = joined.replace(' ', '')\n",
    "        ind = uniq_ind(joined)\n",
    "        all_abbre.append(joined[ind[0]])\n",
    "        all_abbre.append(joined[ind[1]])\n",
    "        str_abb = ''.join(all_abbre)\n",
    "        return str_abb\n",
    "\n",
    "    new_word = remove_punctuation(txt_file)\n",
    "    abb_let = []\n",
    "    for word in new_word:\n",
    "        if any(x in word for x in others):\n",
    "            sep = seperate_compound(word=word)\n",
    "            abb = extract_letters(sep)\n",
    "            abb_let.append(word)\n",
    "            abb_let.append(abb)\n",
    "        else:\n",
    "            abb = extract_letters([word])\n",
    "            abb_let.append(word)\n",
    "            abb_let.append(abb)\n",
    "    \n",
    "    input_name = txt_file.split('.')[0]\n",
    "    sur_name = 'Tobi'\n",
    "    output_name = (f'{input_name.lower()}_{sur_name.lower()}_abbrevs.txt')\n",
    "    \n",
    "    with open(output_name, 'w') as file:\n",
    "        file.write('\\n'.join(abb_let))    \n",
    "\n",
    "    # return abb_let"
   ]
  },
  {
   "cell_type": "code",
   "execution_count": 107,
   "metadata": {},
   "outputs": [],
   "source": [
    "abt = Abbreviator(txt_file='experiment.txt')\n",
    "abt"
   ]
  },
  {
   "cell_type": "code",
   "execution_count": 108,
   "metadata": {},
   "outputs": [],
   "source": [
    "# with open('word_abbrev.txt', 'w') as file:\n",
    "#     file.write('\\n'.join(abt))"
   ]
  },
  {
   "cell_type": "code",
   "execution_count": 109,
   "metadata": {},
   "outputs": [
    {
     "name": "stdout",
     "output_type": "stream",
     "text": [
      "OBJECT-ORIENTED PROGRAMMING\n",
      "['OBJECT', 'ORIENTED', 'PROGRAMMING']\n",
      "OBJECT-ORIENTED PROGRAMMING\n",
      "['OBJECT', 'ORIENTED', 'PROGRAMMING']\n",
      "BEST_SELLING BOOK\n",
      "['BEST', 'SELLING', 'BOOK']\n"
     ]
    },
    {
     "data": {
      "text/plain": [
       "3"
      ]
     },
     "execution_count": 109,
     "metadata": {},
     "output_type": "execute_result"
    }
   ],
   "source": [
    "for word in new_word:\n",
    "    if any(x in word for x in others):\n",
    "        print(word)\n",
    "        vc=[]\n",
    "        for x in word.split():\n",
    "            for s in others:\n",
    "                if s in x:\n",
    "                    d=x.split(s)\n",
    "                    # print(d)\n",
    "                    vc  += d\n",
    "                else:\n",
    "                    pass\n",
    "        vc.append(x)\n",
    "        print(vc)\n",
    "\n",
    "len(vc)\n",
    "        \n",
    "# print(vc)\n",
    "    # else:\n",
    "    #     print(word)"
   ]
  },
  {
   "cell_type": "code",
   "execution_count": 110,
   "metadata": {},
   "outputs": [
    {
     "data": {
      "text/plain": [
       "2"
      ]
     },
     "execution_count": 110,
     "metadata": {},
     "output_type": "execute_result"
    }
   ],
   "source": [
    "random.randint(1,5)"
   ]
  },
  {
   "cell_type": "code",
   "execution_count": 111,
   "metadata": {},
   "outputs": [
    {
     "data": {
      "text/plain": [
       "['B', 'O', 'E']"
      ]
     },
     "execution_count": 111,
     "metadata": {},
     "output_type": "execute_result"
    }
   ],
   "source": [
    "vc = ['BEST', 'SELLING', 'BOOK']\n",
    "\n",
    "all_abbre = []\n",
    "part = []\n",
    "\n",
    "all_abbre.append(vc[0][0])\n",
    "for f in vc:\n",
    "    first_out = f[1:]\n",
    "    part.append(first_out)\n",
    "joined = ''.join(part)\n",
    "for num in range(2):\n",
    "    ind = random.randint(0, len(joined)-1)\n",
    "    rand_letter = joined[ind]\n",
    "    all_abbre.append(rand_letter)\n",
    "    \n",
    "all_abbre\n",
    "    \n",
    "    # ind = random.randint(0,len(first_out)-1)\n",
    "    # rand_letter = first_out[ind]\n",
    "    # print(rand_letter)\n",
    "    # all_abbre.append(rand_letter)\n",
    "\n",
    "# all_abbre\n",
    "\n",
    "\n",
    "# for f in range(len(vc)):\n",
    "#     first_out = vc[f][1:]\n",
    "#     ind = random.randint(0,len(first_out))\n",
    "#     print(ind)\n",
    "#     print(first_out[ind])\n",
    "    \n",
    "\n",
    "# print(first_out)\n",
    "# print(len(first_out))"
   ]
  },
  {
   "cell_type": "code",
   "execution_count": 112,
   "metadata": {},
   "outputs": [],
   "source": [
    "values_dict = {\n",
    "    'A':25, 'B':8, 'C':8, 'D': 9, 'E':35,\n",
    "    'F':7, 'G':9, 'H':7, 'I':25, 'J':3,\n",
    "    'K':6, 'L':15, 'M':8, 'N':15, 'O':20,\n",
    "    'P':8, 'Q':1, 'R':15, 'S':15, 'T':15, \n",
    "    'U':20, 'V':7, 'W':7, 'X':3, 'Y':7, 'Z':1\n",
    "}\n",
    "\n"
   ]
  },
  {
   "cell_type": "code",
   "execution_count": 113,
   "metadata": {},
   "outputs": [],
   "source": [
    "def extract_letters(lst):\n",
    "    all_abbre = []\n",
    "    part = []\n",
    "    all_abbre.append(lst[0][0])\n",
    "    for each in lst:\n",
    "        first_out = each[1:]\n",
    "        part.append(first_out)\n",
    "    joined = ''.join(part)\n",
    "    joined = joined.replace(' ', '')\n",
    "    ind = uniq_ind(joined)\n",
    "    all_abbre.append(joined[ind[0]])\n",
    "    all_abbre.append(joined[ind[1]])\n",
    "    str_abb = ''.join(all_abbre)\n",
    "    return str_abb"
   ]
  },
  {
   "cell_type": "code",
   "execution_count": 114,
   "metadata": {},
   "outputs": [],
   "source": [
    "def extract_letters(lst):\n",
    "    all_abbre = []\n",
    "    part = []\n",
    "    all_abbre.append(lst[0][0])\n",
    "    for each in lst:\n",
    "        first_out = each[1:]\n",
    "        part.append(first_out)\n",
    "    joined = ''.join(part)\n",
    "    joined = joined.replace(' ', '')\n",
    "    for num in range(2):\n",
    "        ind = random.randint(0,len(joined)-1)\n",
    "        rand_letter = joined[ind]\n",
    "        all_abbre.append(rand_letter)\n",
    "    str_abb = ''.join(all_abbre)\n",
    "    \n",
    "    return str_abb"
   ]
  },
  {
   "cell_type": "code",
   "execution_count": 115,
   "metadata": {},
   "outputs": [
    {
     "data": {
      "text/plain": [
       "'BNL'"
      ]
     },
     "execution_count": 115,
     "metadata": {},
     "output_type": "execute_result"
    }
   ],
   "source": [
    "vc = ['BEST', 'SELLING', 'BOOK']\n",
    "extract_letters(vc)"
   ]
  },
  {
   "cell_type": "code",
   "execution_count": 116,
   "metadata": {},
   "outputs": [
    {
     "data": {
      "text/plain": [
       "'BES'"
      ]
     },
     "execution_count": 116,
     "metadata": {},
     "output_type": "execute_result"
    }
   ],
   "source": [
    "vc = ['BEST']\n",
    "extract_letters(vc)"
   ]
  },
  {
   "cell_type": "code",
   "execution_count": 117,
   "metadata": {},
   "outputs": [],
   "source": [
    "def extract_letters(lst):\n",
    "    all_abbre = []\n",
    "    part = []\n",
    "    all_abbre.append(lst[0][0])\n",
    "    for each in lst:\n",
    "        first_out = each[1:]\n",
    "        part.append(first_out)\n",
    "    joined = ''.join(part)\n",
    "    joined = joined.replace(' ', '')\n",
    "    # ind = uniq_ind(joined)\n",
    "    # all_abbre.append(joined[ind[0]])\n",
    "    # all_abbre.append(joined[ind[1]])\n",
    "    # str_abb = ''.join(all_abbre)\n",
    "    # return str_abb"
   ]
  },
  {
   "cell_type": "code",
   "execution_count": null,
   "metadata": {},
   "outputs": [],
   "source": []
  },
  {
   "cell_type": "code",
   "execution_count": null,
   "metadata": {},
   "outputs": [],
   "source": []
  },
  {
   "cell_type": "code",
   "execution_count": null,
   "metadata": {},
   "outputs": [],
   "source": []
  },
  {
   "cell_type": "code",
   "execution_count": 118,
   "metadata": {},
   "outputs": [
    {
     "data": {
      "text/plain": [
       "'BNS'"
      ]
     },
     "execution_count": 118,
     "metadata": {},
     "output_type": "execute_result"
    }
   ],
   "source": [
    "vc = ['BEST SELLING']\n",
    "\n",
    "all_abbre = []\n",
    "part = []\n",
    "\n",
    "all_abbre.append(vc[0][0])\n",
    "for f in vc:\n",
    "    first_out = f[1:]\n",
    "    part.append(first_out)\n",
    "joined = ''.join(part)\n",
    "joined = joined.replace(' ', '')\n",
    "for num in range(2):\n",
    "    ind = random.randint(0, len(joined)-1)\n",
    "    rand_letter = joined[ind]\n",
    "    all_abbre.append(rand_letter)\n",
    "    \n",
    "string_abb = ''.join(all_abbre)\n",
    "string_abb"
   ]
  },
  {
   "cell_type": "code",
   "execution_count": 119,
   "metadata": {},
   "outputs": [],
   "source": [
    "def uniq_ind(joined_word):\n",
    "    index = []\n",
    "    gen = random.randint(0, len(joined_word)-1)\n",
    "    for x in range(2):\n",
    "        while gen in index:\n",
    "            gen = random.randint(0, len(joined_word)-1)\n",
    "        index.append(gen)\n",
    "    index.sort()\n",
    "    \n",
    "    return index\n",
    "    "
   ]
  },
  {
   "cell_type": "code",
   "execution_count": 120,
   "metadata": {},
   "outputs": [
    {
     "data": {
      "text/plain": [
       "'BTE'"
      ]
     },
     "execution_count": 120,
     "metadata": {},
     "output_type": "execute_result"
    }
   ],
   "source": [
    "vc = ['BEST SELLING']\n",
    "\n",
    "all_abbre = []\n",
    "part = []\n",
    "\n",
    "all_abbre.append(vc[0][0])\n",
    "for f in vc:\n",
    "    first_out = f[1:]\n",
    "    part.append(first_out)\n",
    "joined = ''.join(part)\n",
    "joined = joined.replace(' ', '')\n",
    "ind = uniq_ind(joined)\n",
    "all_abbre.append(joined[ind[0]])\n",
    "all_abbre.append(joined[ind[1]])\n",
    "all_abbre\n",
    "\n",
    "\n",
    "# for num in range(2):\n",
    "#     ind = random.randint(0, len(joined)-1)\n",
    "#     rand_letter = joined[ind]\n",
    "#     all_abbre.append(rand_letter)\n",
    "    \n",
    "string_abb = ''.join(all_abbre)\n",
    "string_abb"
   ]
  },
  {
   "cell_type": "code",
   "execution_count": 121,
   "metadata": {},
   "outputs": [
    {
     "data": {
      "text/plain": [
       "[1, 5]"
      ]
     },
     "execution_count": 121,
     "metadata": {},
     "output_type": "execute_result"
    }
   ],
   "source": [
    "uniq_ind(joined)"
   ]
  },
  {
   "cell_type": "code",
   "execution_count": 122,
   "metadata": {},
   "outputs": [
    {
     "name": "stdout",
     "output_type": "stream",
     "text": [
      "[1, 2, 3]\n"
     ]
    }
   ],
   "source": [
    "listvar = [random.randint(0,3) for _ in range(3)]\n",
    "listvar.sort()\n",
    "print(listvar)"
   ]
  },
  {
   "cell_type": "code",
   "execution_count": 123,
   "metadata": {},
   "outputs": [
    {
     "data": {
      "text/html": [
       "<div>\n",
       "<style scoped>\n",
       "    .dataframe tbody tr th:only-of-type {\n",
       "        vertical-align: middle;\n",
       "    }\n",
       "\n",
       "    .dataframe tbody tr th {\n",
       "        vertical-align: top;\n",
       "    }\n",
       "\n",
       "    .dataframe thead th {\n",
       "        text-align: right;\n",
       "    }\n",
       "</style>\n",
       "<table border=\"1\" class=\"dataframe\">\n",
       "  <thead>\n",
       "    <tr style=\"text-align: right;\">\n",
       "      <th></th>\n",
       "      <th>Object-oriented programming</th>\n",
       "    </tr>\n",
       "  </thead>\n",
       "  <tbody>\n",
       "    <tr>\n",
       "      <th>0</th>\n",
       "      <td>Moore’s Law</td>\n",
       "    </tr>\n",
       "    <tr>\n",
       "      <th>1</th>\n",
       "      <td>Data Engineering</td>\n",
       "    </tr>\n",
       "    <tr>\n",
       "      <th>2</th>\n",
       "      <td>Cold</td>\n",
       "    </tr>\n",
       "    <tr>\n",
       "      <th>3</th>\n",
       "      <td>Cool</td>\n",
       "    </tr>\n",
       "    <tr>\n",
       "      <th>4</th>\n",
       "      <td>C++ Code</td>\n",
       "    </tr>\n",
       "    <tr>\n",
       "      <th>5</th>\n",
       "      <td>Object-oriented programming</td>\n",
       "    </tr>\n",
       "    <tr>\n",
       "      <th>6</th>\n",
       "      <td>Best_selling Book</td>\n",
       "    </tr>\n",
       "    <tr>\n",
       "      <th>7</th>\n",
       "      <td>Data Engineering</td>\n",
       "    </tr>\n",
       "    <tr>\n",
       "      <th>8</th>\n",
       "      <td>English</td>\n",
       "    </tr>\n",
       "  </tbody>\n",
       "</table>\n",
       "</div>"
      ],
      "text/plain": [
       "   Object-oriented programming\n",
       "0                  Moore’s Law\n",
       "1             Data Engineering\n",
       "2                         Cold\n",
       "3                         Cool\n",
       "4                     C++ Code\n",
       "5  Object-oriented programming\n",
       "6            Best_selling Book\n",
       "7             Data Engineering\n",
       "8                      English"
      ]
     },
     "execution_count": 123,
     "metadata": {},
     "output_type": "execute_result"
    }
   ],
   "source": [
    "text = pd.read_fwf(\"experiment.txt\")\n",
    "text"
   ]
  },
  {
   "cell_type": "code",
   "execution_count": 124,
   "metadata": {},
   "outputs": [],
   "source": [
    "def punctuation(filename):\n",
    "    \n",
    "    with open(filename, mode='r') as f:\n",
    "        s = ''\n",
    "        punctuations = '''.,;:!?'''\n",
    "        text = f.read()\n",
    "        words = text.split()\n",
    "        for line in text:\n",
    "            if line in set(punctuations):\n",
    "                    s += line\n",
    "    return s"
   ]
  },
  {
   "cell_type": "code",
   "execution_count": 125,
   "metadata": {},
   "outputs": [],
   "source": [
    "a = punctuation('experiment.txt')"
   ]
  },
  {
   "cell_type": "code",
   "execution_count": null,
   "metadata": {},
   "outputs": [],
   "source": []
  }
 ],
 "metadata": {
  "kernelspec": {
   "display_name": "Python 3.10.6 64-bit",
   "language": "python",
   "name": "python3"
  },
  "language_info": {
   "codemirror_mode": {
    "name": "ipython",
    "version": 3
   },
   "file_extension": ".py",
   "mimetype": "text/x-python",
   "name": "python",
   "nbconvert_exporter": "python",
   "pygments_lexer": "ipython3",
   "version": "3.10.6"
  },
  "orig_nbformat": 4,
  "vscode": {
   "interpreter": {
    "hash": "428a2680e134346dc6a50eeb15b5601ea447c297abbe5316187818ea532ba498"
   }
  }
 },
 "nbformat": 4,
 "nbformat_minor": 2
}
