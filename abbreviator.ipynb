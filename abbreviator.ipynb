{
 "cells": [
  {
   "cell_type": "markdown",
   "metadata": {},
   "source": [
    "## Final Code"
   ]
  },
  {
   "cell_type": "code",
   "execution_count": 1,
   "metadata": {},
   "outputs": [],
   "source": [
    "def Abbreviator(txt_file):\n",
    "    \"\"\"This script is designed to read a text file (txt) containing list\n",
    "    of names of some kind and generate three-letter abbreviations for each of these objects.\n",
    "    Some functions was created to help achieve this.\n",
    "    \"\"\"\n",
    "    # Import random and set seed to 1\n",
    "    import random\n",
    "    random.seed(1)\n",
    "\n",
    "    \"\"\"Function to remove all apostrophes from each names in the list.\n",
    "    It clean the names for further processes. \n",
    "    \"\"\"\n",
    "    # List of non-letter characters that are likely used for compound words\n",
    "    others = [\"-\", \"_\"]\n",
    "    def remove_punctuation(filename):\n",
    "        with open(filename, 'r', encoding='utf-8') as open_file:\n",
    "            content = open_file.read().split('\\n')\n",
    "            # dictionary of non-letter characters that are likely to exist in names\n",
    "        punctuation = {\n",
    "            \"'\":\"\",\n",
    "            \"+\":\"\",\n",
    "            \"!\":\"\",\n",
    "            \"’\":\"\",\n",
    "            \"`\":\"\"\n",
    "        }\n",
    "        no_punctuation = []\n",
    "        # Looping through each word and removing non-letter characters defined in the dictionary\n",
    "        for i in content:\n",
    "            remv_punc = i.translate(str.maketrans(punctuation)).upper()\n",
    "            no_punctuation.append(remv_punc)\n",
    "        no_punctuation\n",
    "        return no_punctuation\n",
    "\n",
    "    \"\"\"Function to detect any compound word with a non-letter joining them, like those defined\n",
    "    in the variable (others) above. Once it detects such, it split the word by that character. \n",
    "    For words that are single or does not have a non-letter joining them, the function returns \n",
    "    a list of word, seperated if more than one.  \n",
    "    \"\"\"\n",
    "    def seperate_compound(word):\n",
    "        vc = []\n",
    "        # Loops through the cleaned names and split by space first \n",
    "        for x in word.split():\n",
    "            for s in others:\n",
    "                # Checking if the charaters in others is in any of the splitted words \n",
    "                if s in x:\n",
    "                    # Split the word by that charater found in the word\n",
    "                    d=x.split(s)\n",
    "                    # Add the splitted word to the list defined above\n",
    "                    vc  += d\n",
    "                else:\n",
    "                    pass\n",
    "        # Add word that did not fall in the if statement above to the list.\n",
    "        vc.append(x)\n",
    "        return vc\n",
    "\n",
    "    \"\"\"Function to select unique index number from words after removing the first character. \n",
    "    This index are arranged in ascending order to obey the rule where two further letters in \n",
    "    name are selected in order \n",
    "    \"\"\"\n",
    "    def uniq_ind(joined_word):\n",
    "        index = []\n",
    "        # generate random numbers that fall in the range of the current word\n",
    "        gen = random.randint(0, len(joined_word)-1)\n",
    "        for x in range(2):\n",
    "            while gen in index:\n",
    "                gen = random.randint(0, len(joined_word)-1)\n",
    "            index.append(gen)\n",
    "        # Sort the numbers generated in ascending order\n",
    "        index.sort()\n",
    "        return index\n",
    "        \n",
    "    \"\"\"Function to make abbreviations. It loops through each word in the list and extract the \n",
    "    first letter as a constant, followed by two further letters with the help of the previous \n",
    "    function.\n",
    "    \"\"\"\n",
    "    def extract_letters(lst):\n",
    "        # Empty list to hold abbreviation strings\n",
    "        all_abbre = []\n",
    "        # Empty list to hold the remaining letters after removing the first letter.\n",
    "        part = []\n",
    "        all_abbre.append(lst[0][0])\n",
    "        for each in lst:\n",
    "            first_out = each[1:]\n",
    "            part.append(first_out)\n",
    "        joined = ''.join(part)\n",
    "        joined = joined.replace(' ', '')\n",
    "        ind = uniq_ind(joined)\n",
    "        # Adding two letter to the list with the index number generated\n",
    "        all_abbre.append(joined[ind[0]])\n",
    "        all_abbre.append(joined[ind[1]])\n",
    "        str_abb = ''.join(all_abbre)\n",
    "        return str_abb\n",
    "\n",
    "    \"\"\"Here, all functions created above are put to use to perform the task. \n",
    "    \"\"\"\n",
    "    # Remove apostrophes and non-letter character\n",
    "    new_word = remove_punctuation(txt_file)\n",
    "    # Empty list to hold the new results, words followed by its abbreviation.\n",
    "    abb_let = []\n",
    "    # loop through the clean names, seperate any joined words, and extract letters.\n",
    "    # Add results to the empty list above.\n",
    "    for word in new_word:\n",
    "        if any(x in word for x in others):\n",
    "            sep = seperate_compound(word=word)\n",
    "            abb = extract_letters(sep)\n",
    "            abb_let.append(word)\n",
    "            abb_let.append(abb)\n",
    "        else:\n",
    "            abb = extract_letters([word])\n",
    "            abb_let.append(word)\n",
    "            abb_let.append(abb)\n",
    "    \n",
    "    # Creating file output name as per requirements\n",
    "    input_name = txt_file.split('.')[0]\n",
    "    sur_name = 'Omidiji'\n",
    "    output_name = (f'{sur_name.lower()}_{input_name.lower()}_abbrevs.txt')\n",
    "    \n",
    "    # writing the results to the created file above\n",
    "    with open(output_name, 'w') as file:\n",
    "        file.write('\\n'.join(abb_let)) "
   ]
  },
  {
   "cell_type": "code",
   "execution_count": 3,
   "metadata": {},
   "outputs": [],
   "source": [
    "Abbreviator(txt_file='names.txt')"
   ]
  },
  {
   "cell_type": "markdown",
   "metadata": {},
   "source": []
  },
  {
   "cell_type": "markdown",
   "metadata": {},
   "source": [
    "### MODIFICATION\n"
   ]
  },
  {
   "cell_type": "code",
   "execution_count": 1,
   "metadata": {},
   "outputs": [],
   "source": [
    "def Abbreviator(txt_file):\n",
    "    \"\"\"This script is designed to read a text file (txt) containing list\n",
    "    of names of some kind and generate three-letter abbreviations for each of these objects.\n",
    "    Some functions was created to help achieve this.\n",
    "    \"\"\"\n",
    "    # Import random and set seed to 1\n",
    "    import random\n",
    "    random.seed(1)\n",
    "\n",
    "    \"\"\"Function to remove all apostrophes from each names in the list.\n",
    "    It clean the names for further processes. \n",
    "    \"\"\"\n",
    "    # List of non-letter characters that are likely used for compound words\n",
    "    others = [\"-\", \"_\"]\n",
    "    def remove_punctuation(filename):\n",
    "        with open(filename, 'r', encoding='utf-8') as open_file:\n",
    "            content = open_file.read().split('\\n')\n",
    "            # dictionary of non-letter characters that are likely to exist in names\n",
    "        punctuation = {\n",
    "            \"'\":\"\",\n",
    "            \"+\":\"\",\n",
    "            \"!\":\"\",\n",
    "            \"’\":\"\",\n",
    "            \"`\":\"\"\n",
    "        }\n",
    "        no_punctuation = []\n",
    "        # Looping through each word and removing non-letter characters defined in the dictionary\n",
    "        for i in content:\n",
    "            remv_punc = i.translate(str.maketrans(punctuation)).upper()\n",
    "            no_punctuation.append(remv_punc)\n",
    "        no_punctuation\n",
    "        return no_punctuation\n",
    "\n",
    "    \"\"\"Function to detect any compound word with a non-letter joining them, like those defined\n",
    "    in the variable (others) above. Once it detects such, it split the word by that character. \n",
    "    For words that are single or does not have a non-letter joining them, the function returns \n",
    "    a list of word, seperated if more than one.  \n",
    "    \"\"\"\n",
    "    def seperate_compound(word):\n",
    "        vc = []\n",
    "        # Loops through the cleaned names and split by space first \n",
    "        for x in word.split():\n",
    "            for s in others:\n",
    "                # Checking if the charaters in others is in any of the splitted words \n",
    "                if s in x:\n",
    "                    # Split the word by that charater found in the word\n",
    "                    d=x.split(s)\n",
    "                    # Add the splitted word to the list defined above\n",
    "                    vc  += d\n",
    "                else:\n",
    "                    pass\n",
    "        # Add word that did not fall in the if statement above to the list.\n",
    "        vc.append(x)\n",
    "        return vc\n",
    "\n",
    "    \"\"\"Function to select unique index number from words after removing the first character. \n",
    "    This index are arranged in ascending order to obey the rule where two further letters in \n",
    "    name are selected in order \n",
    "    \"\"\"\n",
    "    def uniq_ind(joined_word):\n",
    "        index = []\n",
    "        # generate random numbers that fall in the range of the current word\n",
    "        gen = random.randint(0, len(joined_word)-1)\n",
    "        for x in range(2):\n",
    "            while gen in index:\n",
    "                gen = random.randint(0, len(joined_word)-1)\n",
    "            index.append(gen)\n",
    "        # Sort the numbers generated in ascending order\n",
    "        index.sort()\n",
    "        return index\n",
    "        \n",
    "    \"\"\"Function to make abbreviations. It loops through each word in the list and extract the \n",
    "    first letter as a constant, followed by two further letters with the help of the previous \n",
    "    function.\n",
    "    \"\"\"\n",
    "    def extract_letters(lst):\n",
    "        # Empty list to hold abbreviation strings\n",
    "        all_abbre = []\n",
    "        # Empty list to hold the remaining letters after removing the first letter.\n",
    "        part = []\n",
    "        all_abbre.append(lst[0][0])\n",
    "        for each in lst:\n",
    "            first_out = each[1:]\n",
    "            part.append(first_out)\n",
    "        joined = ''.join(part)\n",
    "        joined = joined.replace(' ', '')\n",
    "        ind = uniq_ind(joined)\n",
    "        # Adding two letter to the list with the index number generated\n",
    "        all_abbre.append(joined[ind[0]])\n",
    "        all_abbre.append(joined[ind[1]])\n",
    "        str_abb = ''.join(all_abbre)\n",
    "        return str_abb\n",
    "\n",
    "    \"\"\"Here, all functions created above are put to use to perform the task. \n",
    "    \"\"\"\n",
    "    # Remove apostrophes and non-letter character\n",
    "    new_word = remove_punctuation(txt_file)\n",
    "    # Empty list to hold the new results, words followed by its abbreviation.\n",
    "    abb_let = []\n",
    "    # loop through the clean names, seperate any joined words, and extract letters.\n",
    "    # Add results to the empty list above.\n",
    "    for word in new_word:\n",
    "        if any(x in word for x in others):\n",
    "            sep = seperate_compound(word=word)\n",
    "            abb = extract_letters(sep)\n",
    "            return abb\n",
    "    #         abb_let.append(word)\n",
    "    #         abb_let.append(abb)\n",
    "    #     else:\n",
    "    #         abb = extract_letters([word])\n",
    "    #         abb_let.append(word)\n",
    "    #         abb_let.append(abb)\n",
    "    \n",
    "    # # Creating file output name as per requirements\n",
    "    # input_name = txt_file.split('.')[0]\n",
    "    # sur_name = 'Omidiji'\n",
    "    # output_name = (f'{sur_name.lower()}_{input_name.lower()}_abbrevs.txt')\n",
    "    \n",
    "    # # writing the results to the created file above\n",
    "    # with open(output_name, 'w') as file:\n",
    "    #     file.write('\\n'.join(abb_let)) "
   ]
  },
  {
   "cell_type": "code",
   "execution_count": null,
   "metadata": {},
   "outputs": [],
   "source": []
  },
  {
   "cell_type": "markdown",
   "metadata": {},
   "source": [
    "### Building Cell"
   ]
  },
  {
   "cell_type": "code",
   "execution_count": 2,
   "metadata": {},
   "outputs": [],
   "source": [
    "def remove_punctuation(filename):\n",
    "    with open(filename, 'r', encoding='utf-8') as open_file:\n",
    "        content = open_file.read().split('\\n')\n",
    "        \n",
    "    punctuation = {\n",
    "        \"'\":\"\",\n",
    "        \"+\":\"\",\n",
    "        \"!\":\"\",\n",
    "        \"’\":\"\",\n",
    "        \"`\":\"\"\n",
    "    }\n",
    "\n",
    "    no_punctuation = []\n",
    "    for i in content:\n",
    "        remv_punc = i.translate(str.maketrans(punctuation)).upper()\n",
    "        no_punctuation.append(remv_punc)\n",
    "    no_punctuation\n",
    "    \n",
    "    return no_punctuation"
   ]
  },
  {
   "cell_type": "code",
   "execution_count": 3,
   "metadata": {},
   "outputs": [
    {
     "data": {
      "text/plain": [
       "['OBJECT-ORIENTED PROGRAMMING',\n",
       " 'MOORES LAW',\n",
       " 'DATA ENGINEERING',\n",
       " 'COLD',\n",
       " 'COOL',\n",
       " 'C CODE',\n",
       " 'OBJECT-ORIENTED PROGRAMMING',\n",
       " 'BEST_SELLING BOOK',\n",
       " 'DATA ENGINEERING',\n",
       " 'ENGLISH']"
      ]
     },
     "execution_count": 3,
     "metadata": {},
     "output_type": "execute_result"
    }
   ],
   "source": [
    "new_word = remove_punctuation('experiment.txt')\n",
    "new_word"
   ]
  },
  {
   "cell_type": "code",
   "execution_count": 4,
   "metadata": {},
   "outputs": [
    {
     "data": {
      "text/plain": [
       "['Objectoriented programming',\n",
       " 'Moores Law',\n",
       " 'Data Engineering',\n",
       " 'Cold',\n",
       " 'Cool',\n",
       " 'C Code',\n",
       " 'Objectoriented programming',\n",
       " 'Bestselling Book',\n",
       " 'Data Engineering',\n",
       " 'English']"
      ]
     },
     "execution_count": 4,
     "metadata": {},
     "output_type": "execute_result"
    }
   ],
   "source": [
    "with open('experiment.txt', 'r', encoding='utf-8') as open_file:\n",
    "    content = open_file.read().split('\\n')\n",
    "    \n",
    "punctuation = {\n",
    "    \"'\":\"\",\n",
    "    \"-\":\"\",\n",
    "    \"_\":\"\",\n",
    "    \"+\":\"\",\n",
    "    \"!\":\"\",\n",
    "    \"’\":\"\"\n",
    "}\n",
    "\n",
    "# str.maketrans(punctuation)\n",
    "no_punctuation = []\n",
    "for i in content:\n",
    "    remv_punc = i.translate(str.maketrans(punctuation))\n",
    "    no_punctuation.append(remv_punc)\n",
    "no_punctuation"
   ]
  },
  {
   "cell_type": "code",
   "execution_count": 5,
   "metadata": {},
   "outputs": [],
   "source": [
    "with open('experiment.txt', 'r', encoding='utf-8') as open_file:\n",
    "    # content = open_file.readlines()\n",
    "    content1 = open_file.read()\n",
    "    "
   ]
  },
  {
   "cell_type": "code",
   "execution_count": 6,
   "metadata": {},
   "outputs": [],
   "source": [
    "# content"
   ]
  },
  {
   "cell_type": "code",
   "execution_count": 7,
   "metadata": {},
   "outputs": [
    {
     "data": {
      "text/plain": [
       "'Object-oriented programming\\nMoore’s Law\\nData Engineering\\nCold\\nCool\\nC++ Code\\nObject-oriented programming\\nBest_selling Book\\nData Engineering\\nEnglish'"
      ]
     },
     "execution_count": 7,
     "metadata": {},
     "output_type": "execute_result"
    }
   ],
   "source": [
    "content1"
   ]
  },
  {
   "cell_type": "code",
   "execution_count": 8,
   "metadata": {},
   "outputs": [
    {
     "data": {
      "text/plain": [
       "['Object-oriented',\n",
       " 'programming',\n",
       " 'Moore’s',\n",
       " 'Law',\n",
       " 'Data',\n",
       " 'Engineering',\n",
       " 'Cold',\n",
       " 'Cool',\n",
       " 'C++',\n",
       " 'Code',\n",
       " 'Object-oriented',\n",
       " 'programming',\n",
       " 'Best_selling',\n",
       " 'Book',\n",
       " 'Data',\n",
       " 'Engineering',\n",
       " 'English']"
      ]
     },
     "execution_count": 8,
     "metadata": {},
     "output_type": "execute_result"
    }
   ],
   "source": [
    "content1.split()"
   ]
  },
  {
   "cell_type": "code",
   "execution_count": 9,
   "metadata": {},
   "outputs": [
    {
     "data": {
      "text/plain": [
       "['Object-oriented programming',\n",
       " 'Moore’s Law',\n",
       " 'Data Engineering',\n",
       " 'Cold',\n",
       " 'Cool',\n",
       " 'C++ Code',\n",
       " 'Object-oriented programming',\n",
       " 'Best_selling Book',\n",
       " 'Data Engineering',\n",
       " 'English']"
      ]
     },
     "execution_count": 9,
     "metadata": {},
     "output_type": "execute_result"
    }
   ],
   "source": [
    "each_line = re.split(r'\\n+', content1)\n",
    "each_line"
   ]
  },
  {
   "cell_type": "code",
   "execution_count": null,
   "metadata": {},
   "outputs": [],
   "source": []
  },
  {
   "cell_type": "code",
   "execution_count": 10,
   "metadata": {},
   "outputs": [
    {
     "data": {
      "text/plain": [
       "['Object-oriented', 'programming']"
      ]
     },
     "execution_count": 10,
     "metadata": {},
     "output_type": "execute_result"
    }
   ],
   "source": [
    "each_line[0].split()"
   ]
  },
  {
   "cell_type": "code",
   "execution_count": 11,
   "metadata": {},
   "outputs": [
    {
     "name": "stdout",
     "output_type": "stream",
     "text": [
      "['Object', 'oriented']\n",
      "['Object', 'oriented']\n",
      "['Best', 'selling']\n"
     ]
    },
    {
     "data": {
      "text/plain": [
       "['OBJECT-ORIENTED PROGRAMMING',\n",
       " 'MOORES LAW',\n",
       " 'DATA ENGINEERING',\n",
       " 'COLD',\n",
       " 'COOL',\n",
       " 'C CODE',\n",
       " 'OBJECT-ORIENTED PROGRAMMING',\n",
       " 'BEST_SELLING BOOK',\n",
       " 'DATA ENGINEERING',\n",
       " 'ENGLISH']"
      ]
     },
     "execution_count": 11,
     "metadata": {},
     "output_type": "execute_result"
    }
   ],
   "source": [
    "punctuation = {\n",
    "    \"'\":\"\",\n",
    "    \"+\":\"\",\n",
    "    \"!\":\"\",\n",
    "    \"’\":\"\"\n",
    "}\n",
    "others = [\"-\", \"_\"]\n",
    "# str.maketrans(punctuation)\n",
    "new = []\n",
    "for i in each_line:\n",
    "    vc=[]\n",
    "    for x in i.split():\n",
    "        for s in others:\n",
    "            if s in x:\n",
    "                d=x.split(s)\n",
    "                print(d)\n",
    "                vc  += d\n",
    "            else:\n",
    "                pass\n",
    "    vc.append(x)\n",
    "        \n",
    "    no_punc = i.translate(str.maketrans(punctuation)).upper()\n",
    "    new.append(no_punc)\n",
    "    \n",
    "new"
   ]
  },
  {
   "cell_type": "code",
   "execution_count": 12,
   "metadata": {},
   "outputs": [
    {
     "data": {
      "text/plain": [
       "'Best_selling Book-map'"
      ]
     },
     "execution_count": 12,
     "metadata": {},
     "output_type": "execute_result"
    }
   ],
   "source": [
    "a = ['Best_selling Book-map']\n",
    "a[0]\n"
   ]
  },
  {
   "cell_type": "code",
   "execution_count": 13,
   "metadata": {},
   "outputs": [
    {
     "name": "stdout",
     "output_type": "stream",
     "text": [
      "['Best', 'selling']\n",
      "['Book', 'map']\n",
      "['Best', 'selling', 'Book', 'map']\n"
     ]
    }
   ],
   "source": [
    "b = a[0]\n",
    "vc = []\n",
    "for x in b.split():\n",
    "    for s in others:\n",
    "        if s in x:\n",
    "            d=x.split(s)\n",
    "            print(d)\n",
    "            vc  += d\n",
    "            \n",
    "\n",
    "print(vc)\n",
    "            \n"
   ]
  },
  {
   "cell_type": "code",
   "execution_count": 14,
   "metadata": {},
   "outputs": [
    {
     "name": "stdout",
     "output_type": "stream",
     "text": [
      "['OBJECT', 'ORIENTED']\n",
      "['OBJECT', 'ORIENTED']\n"
     ]
    }
   ],
   "source": [
    "b = new[0]\n",
    "vc = []\n",
    "for x in b.split():\n",
    "    for s in others:\n",
    "        if s in x:\n",
    "            d=x.split(s)\n",
    "            print(d)\n",
    "            vc  += d\n",
    "            \n",
    "\n",
    "print(vc)\n",
    "            \n"
   ]
  },
  {
   "cell_type": "code",
   "execution_count": 15,
   "metadata": {},
   "outputs": [
    {
     "data": {
      "text/plain": [
       "['OBJECT', 'ORIENTED']"
      ]
     },
     "execution_count": 15,
     "metadata": {},
     "output_type": "execute_result"
    }
   ],
   "source": [
    "vc"
   ]
  },
  {
   "cell_type": "code",
   "execution_count": 16,
   "metadata": {},
   "outputs": [
    {
     "data": {
      "text/plain": [
       "['OBJECT', 'ORIENTED']"
      ]
     },
     "execution_count": 16,
     "metadata": {},
     "output_type": "execute_result"
    }
   ],
   "source": [
    "vc"
   ]
  },
  {
   "cell_type": "code",
   "execution_count": 17,
   "metadata": {},
   "outputs": [
    {
     "data": {
      "text/plain": [
       "['OBJECT-ORIENTED PROGRAMMING',\n",
       " 'MOORES LAW',\n",
       " 'DATA ENGINEERING',\n",
       " 'COLD',\n",
       " 'COOL',\n",
       " 'C CODE',\n",
       " 'OBJECT-ORIENTED PROGRAMMING',\n",
       " 'BEST_SELLING BOOK',\n",
       " 'DATA ENGINEERING',\n",
       " 'ENGLISH']"
      ]
     },
     "execution_count": 17,
     "metadata": {},
     "output_type": "execute_result"
    }
   ],
   "source": [
    "new"
   ]
  },
  {
   "cell_type": "code",
   "execution_count": 18,
   "metadata": {},
   "outputs": [
    {
     "data": {
      "text/plain": [
       "'Moores Law'"
      ]
     },
     "execution_count": 18,
     "metadata": {},
     "output_type": "execute_result"
    }
   ],
   "source": [
    "each_line[1].translate(str.maketrans(punctuation))"
   ]
  },
  {
   "cell_type": "code",
   "execution_count": 19,
   "metadata": {},
   "outputs": [
    {
     "name": "stdout",
     "output_type": "stream",
     "text": [
      "bobby-hadz_com\n"
     ]
    }
   ],
   "source": [
    "string = 'bobby!hadz@com'\n",
    "\n",
    "replacements_dict = {\n",
    "    '!': '-',\n",
    "    '@': '_'\n",
    "}\n",
    "\n",
    "string = string.translate(str.maketrans(replacements_dict))\n",
    "\n",
    "print(string) \n"
   ]
  },
  {
   "cell_type": "code",
   "execution_count": 20,
   "metadata": {},
   "outputs": [
    {
     "name": "stdout",
     "output_type": "stream",
     "text": [
      "!\n",
      "@\n"
     ]
    }
   ],
   "source": [
    "string = 'bobby!hadz@com'\n",
    "\n",
    "replacements = [('!', '-'), ('@', '_')]\n",
    "\n",
    "for char, replacement in replacements:\n",
    "    print(char)\n",
    "#     if char in string:\n",
    "#         string = string.replace(char, replacement)\n",
    "\n",
    "# print(string)  # 👉️ bobby-hadz_com\n"
   ]
  },
  {
   "cell_type": "code",
   "execution_count": 21,
   "metadata": {},
   "outputs": [
    {
     "data": {
      "text/plain": [
       "['OBJECT-ORIENTED PROGRAMMING',\n",
       " 'MOORES LAW',\n",
       " 'DATA ENGINEERING',\n",
       " 'COLD',\n",
       " 'COOL',\n",
       " 'C CODE',\n",
       " 'OBJECT-ORIENTED PROGRAMMING',\n",
       " 'BEST_SELLING BOOK',\n",
       " 'DATA ENGINEERING',\n",
       " 'ENGLISH']"
      ]
     },
     "execution_count": 21,
     "metadata": {},
     "output_type": "execute_result"
    }
   ],
   "source": [
    "new_word"
   ]
  },
  {
   "cell_type": "code",
   "execution_count": 22,
   "metadata": {},
   "outputs": [
    {
     "name": "stdout",
     "output_type": "stream",
     "text": [
      "['Object', 'oriented', 'programming']\n",
      "['Law']\n",
      "['Engineering']\n",
      "['Cold']\n",
      "['Cool']\n",
      "['Code']\n",
      "['Object', 'oriented', 'programming']\n",
      "['Best', 'selling', 'Book']\n",
      "['Engineering']\n",
      "['English']\n"
     ]
    },
    {
     "data": {
      "text/plain": [
       "['English']"
      ]
     },
     "execution_count": 22,
     "metadata": {},
     "output_type": "execute_result"
    }
   ],
   "source": [
    "punctuation = {\n",
    "    \"'\":\"\",\n",
    "    \"+\":\"\",\n",
    "    \"!\":\"\",\n",
    "    \"’\":\"\"\n",
    "}\n",
    "others = [\"-\", \"_\"]\n",
    "# str.maketrans(punctuation)\n",
    "new = []\n",
    "for i in each_line:\n",
    "    vc=[]\n",
    "    for x in i.split():\n",
    "        for s in others:\n",
    "            if s in x:\n",
    "                d=x.split(s)\n",
    "                # print(d)\n",
    "                vc  += d\n",
    "            else:\n",
    "                pass\n",
    "    vc.append(x)\n",
    "    print(vc)\n",
    "        \n",
    "    no_punc = i.translate(str.maketrans(punctuation)).upper()\n",
    "    new.append(no_punc)\n",
    "    \n",
    "vc"
   ]
  },
  {
   "cell_type": "code",
   "execution_count": 23,
   "metadata": {},
   "outputs": [],
   "source": [
    "import random"
   ]
  },
  {
   "cell_type": "code",
   "execution_count": 24,
   "metadata": {},
   "outputs": [],
   "source": [
    "def seperate_compound(word):\n",
    "    vc = []\n",
    "    for x in word.split():\n",
    "        for s in others:\n",
    "            if s in x:\n",
    "                d=x.split(s)\n",
    "                vc  += d\n",
    "            else:\n",
    "                pass\n",
    "    vc.append(x)\n",
    "    return vc\n",
    "\n",
    "def uniq_ind(joined_word):\n",
    "    index = []\n",
    "    gen = random.randint(0, len(joined_word)-1)\n",
    "    for x in range(2):\n",
    "        while gen in index:\n",
    "            gen = random.randint(0, len(joined_word)-1)\n",
    "        index.append(gen)\n",
    "    index.sort()\n",
    "    \n",
    "    return index\n",
    "    \n",
    "\n",
    "def extract_letters(lst):\n",
    "    all_abbre = []\n",
    "    part = []\n",
    "    all_abbre.append(lst[0][0])\n",
    "    for each in lst:\n",
    "        first_out = each[1:]\n",
    "        part.append(first_out)\n",
    "    joined = ''.join(part)\n",
    "    joined = joined.replace(' ', '')\n",
    "    ind = uniq_ind(joined)\n",
    "    all_abbre.append(joined[ind[0]])\n",
    "    all_abbre.append(joined[ind[1]])\n",
    "    str_abb = ''.join(all_abbre)\n",
    "    \n",
    "    return str_abb\n",
    "\n"
   ]
  },
  {
   "cell_type": "code",
   "execution_count": 25,
   "metadata": {},
   "outputs": [
    {
     "data": {
      "text/plain": [
       "['OBJECT', 'ORIENTED', 'PROGRAMMING']"
      ]
     },
     "execution_count": 25,
     "metadata": {},
     "output_type": "execute_result"
    }
   ],
   "source": [
    "xc = 'OBJECT-ORIENTED PROGRAMMING'\n",
    "seperate_compound(xc)"
   ]
  },
  {
   "cell_type": "code",
   "execution_count": 26,
   "metadata": {},
   "outputs": [
    {
     "data": {
      "text/plain": [
       "['OEE', 'MOE', 'DTG', 'COD', 'COO', 'COE', 'ONE', 'BNO', 'DER', 'EIS']"
      ]
     },
     "execution_count": 26,
     "metadata": {},
     "output_type": "execute_result"
    }
   ],
   "source": [
    "import pandas as pd\n",
    "import re\n",
    "import random\n",
    "\n",
    "others = [\"-\", \"_\"]\n",
    "def remove_punctuation(filename):\n",
    "    with open(filename, 'r', encoding='utf-8') as open_file:\n",
    "        content = open_file.read().split('\\n')\n",
    "    punctuation = {\n",
    "        \"'\":\"\",\n",
    "        \"+\":\"\",\n",
    "        \"!\":\"\",\n",
    "        \"’\":\"\",\n",
    "        \"`\":\"\"\n",
    "    }\n",
    "    no_punctuation = []\n",
    "    for i in content:\n",
    "        remv_punc = i.translate(str.maketrans(punctuation)).upper()\n",
    "        no_punctuation.append(remv_punc)\n",
    "    no_punctuation\n",
    "    return no_punctuation\n",
    "\n",
    "def seperate_compound(word):\n",
    "    vc = []\n",
    "    for x in word.split():\n",
    "        for s in others:\n",
    "            if s in x:\n",
    "                d=x.split(s)\n",
    "                vc  += d\n",
    "            else:\n",
    "                pass\n",
    "    vc.append(x)\n",
    "    return vc\n",
    "\n",
    "def uniq_ind(joined_word):\n",
    "    index = []\n",
    "    gen = random.randint(0, len(joined_word)-1)\n",
    "    for x in range(2):\n",
    "        while gen in index:\n",
    "            gen = random.randint(0, len(joined_word)-1)\n",
    "        index.append(gen)\n",
    "    index.sort()\n",
    "    return index\n",
    "    \n",
    "def extract_letters(lst):\n",
    "    all_abbre = []\n",
    "    part = []\n",
    "    all_abbre.append(lst[0][0])\n",
    "    for each in lst:\n",
    "        first_out = each[1:]\n",
    "        part.append(first_out)\n",
    "    joined = ''.join(part)\n",
    "    joined = joined.replace(' ', '')\n",
    "    ind = uniq_ind(joined)\n",
    "    all_abbre.append(joined[ind[0]])\n",
    "    all_abbre.append(joined[ind[1]])\n",
    "    str_abb = ''.join(all_abbre)\n",
    "    return str_abb\n",
    "\n",
    "new_word = remove_punctuation('experiment.txt')\n",
    "abb_let = []\n",
    "for word in new_word:\n",
    "    if any(x in word for x in others):\n",
    "        sep = seperate_compound(word=word)\n",
    "        abb = extract_letters(sep)\n",
    "        abb_let.append(abb)\n",
    "    else:\n",
    "        abb = extract_letters([word])\n",
    "        abb_let.append(abb)\n",
    "\n",
    "abb_let"
   ]
  },
  {
   "cell_type": "code",
   "execution_count": 27,
   "metadata": {},
   "outputs": [],
   "source": [
    "def Abbreviator(txt_file):\n",
    "    import pandas as pd\n",
    "    import re\n",
    "    import random\n",
    "\n",
    "    others = [\"-\", \"_\"]\n",
    "    def remove_punctuation(filename):\n",
    "        with open(filename, 'r', encoding='utf-8') as open_file:\n",
    "            content = open_file.read().split('\\n')\n",
    "        punctuation = {\n",
    "            \"'\":\"\",\n",
    "            \"+\":\"\",\n",
    "            \"!\":\"\",\n",
    "            \"’\":\"\",\n",
    "            \"`\":\"\"\n",
    "        }\n",
    "        no_punctuation = []\n",
    "        for i in content:\n",
    "            remv_punc = i.translate(str.maketrans(punctuation)).upper()\n",
    "            no_punctuation.append(remv_punc)\n",
    "        no_punctuation\n",
    "        return no_punctuation\n",
    "\n",
    "    def seperate_compound(word):\n",
    "        vc = []\n",
    "        for x in word.split():\n",
    "            for s in others:\n",
    "                if s in x:\n",
    "                    d=x.split(s)\n",
    "                    vc  += d\n",
    "                else:\n",
    "                    pass\n",
    "        vc.append(x)\n",
    "        return vc\n",
    "\n",
    "    def uniq_ind(joined_word):\n",
    "        index = []\n",
    "        gen = random.randint(0, len(joined_word)-1)\n",
    "        for x in range(2):\n",
    "            while gen in index:\n",
    "                gen = random.randint(0, len(joined_word)-1)\n",
    "            index.append(gen)\n",
    "        index.sort()\n",
    "        return index\n",
    "        \n",
    "    def extract_letters(lst):\n",
    "        all_abbre = []\n",
    "        part = []\n",
    "        all_abbre.append(lst[0][0])\n",
    "        for each in lst:\n",
    "            first_out = each[1:]\n",
    "            part.append(first_out)\n",
    "        joined = ''.join(part)\n",
    "        joined = joined.replace(' ', '')\n",
    "        ind = uniq_ind(joined)\n",
    "        all_abbre.append(joined[ind[0]])\n",
    "        all_abbre.append(joined[ind[1]])\n",
    "        str_abb = ''.join(all_abbre)\n",
    "        return str_abb\n",
    "\n",
    "    new_word = remove_punctuation(txt_file)\n",
    "    abb_let = []\n",
    "    for word in new_word:\n",
    "        if any(x in word for x in others):\n",
    "            sep = seperate_compound(word=word)\n",
    "            abb = extract_letters(sep)\n",
    "            abb_let.append(word)\n",
    "            abb_let.append(abb)\n",
    "        else:\n",
    "            abb = extract_letters([word])\n",
    "            abb_let.append(word)\n",
    "            abb_let.append(abb)\n",
    "    \n",
    "    input_name = txt_file.split('.')[0]\n",
    "    sur_name = 'Tobi'\n",
    "    output_name = (f'{input_name.lower()}_{sur_name.lower()}_abbrevs.txt')\n",
    "    \n",
    "    with open(output_name, 'w') as file:\n",
    "        file.write('\\n'.join(abb_let))    \n",
    "\n",
    "    # return abb_let"
   ]
  },
  {
   "cell_type": "code",
   "execution_count": 28,
   "metadata": {},
   "outputs": [],
   "source": [
    "abt = Abbreviator(txt_file='experiment.txt')\n",
    "abt"
   ]
  },
  {
   "cell_type": "code",
   "execution_count": 29,
   "metadata": {},
   "outputs": [],
   "source": [
    "# with open('word_abbrev.txt', 'w') as file:\n",
    "#     file.write('\\n'.join(abt))"
   ]
  },
  {
   "cell_type": "code",
   "execution_count": 31,
   "metadata": {},
   "outputs": [
    {
     "name": "stdout",
     "output_type": "stream",
     "text": [
      "OBJECT-ORIENTED PROGRAMMING\n",
      "['OBJECT', 'ORIENTED', 'PROGRAMMING']\n",
      "OBJECT-ORIENTED PROGRAMMING\n",
      "['OBJECT', 'ORIENTED', 'PROGRAMMING']\n",
      "BEST_SELLING BOOK\n",
      "['BEST', 'SELLING', 'BOOK']\n"
     ]
    },
    {
     "data": {
      "text/plain": [
       "3"
      ]
     },
     "execution_count": 31,
     "metadata": {},
     "output_type": "execute_result"
    }
   ],
   "source": [
    "for word in new_word:\n",
    "    if any(x in word for x in others):\n",
    "        print(word)\n",
    "        vc=[]\n",
    "        for x in word.split():\n",
    "            for s in others:\n",
    "                if s in x:\n",
    "                    d=x.split(s)\n",
    "                    # print(d)\n",
    "                    vc  += d\n",
    "                else:\n",
    "                    pass\n",
    "        vc.append(x)\n",
    "        print(vc)\n",
    "\n",
    "len(vc)\n",
    "        \n",
    "# print(vc)\n",
    "    # else:\n",
    "    #     print(word)"
   ]
  },
  {
   "cell_type": "code",
   "execution_count": 32,
   "metadata": {},
   "outputs": [
    {
     "data": {
      "text/plain": [
       "3"
      ]
     },
     "execution_count": 32,
     "metadata": {},
     "output_type": "execute_result"
    }
   ],
   "source": [
    "random.randint(1,5)"
   ]
  },
  {
   "cell_type": "code",
   "execution_count": 33,
   "metadata": {},
   "outputs": [
    {
     "data": {
      "text/plain": [
       "['B', 'K', 'K']"
      ]
     },
     "execution_count": 33,
     "metadata": {},
     "output_type": "execute_result"
    }
   ],
   "source": [
    "vc = ['BEST', 'SELLING', 'BOOK']\n",
    "\n",
    "all_abbre = []\n",
    "part = []\n",
    "\n",
    "all_abbre.append(vc[0][0])\n",
    "for f in vc:\n",
    "    first_out = f[1:]\n",
    "    part.append(first_out)\n",
    "joined = ''.join(part)\n",
    "for num in range(2):\n",
    "    ind = random.randint(0, len(joined)-1)\n",
    "    rand_letter = joined[ind]\n",
    "    all_abbre.append(rand_letter)\n",
    "    \n",
    "all_abbre\n",
    "    \n",
    "    # ind = random.randint(0,len(first_out)-1)\n",
    "    # rand_letter = first_out[ind]\n",
    "    # print(rand_letter)\n",
    "    # all_abbre.append(rand_letter)\n",
    "\n",
    "# all_abbre\n",
    "\n",
    "\n",
    "# for f in range(len(vc)):\n",
    "#     first_out = vc[f][1:]\n",
    "#     ind = random.randint(0,len(first_out))\n",
    "#     print(ind)\n",
    "#     print(first_out[ind])\n",
    "    \n",
    "\n",
    "# print(first_out)\n",
    "# print(len(first_out))"
   ]
  },
  {
   "cell_type": "code",
   "execution_count": 30,
   "metadata": {},
   "outputs": [],
   "source": [
    "values_dict = {\n",
    "    'A':25, 'B':8, 'C':8, 'D': 9, 'E':35,\n",
    "    'F':7, 'G':9, 'H':7, 'I':25, 'J':3,\n",
    "    'K':6, 'L':15, 'M':8, 'N':15, 'O':20,\n",
    "    'P':8, 'Q':1, 'R':15, 'S':15, 'T':15, \n",
    "    'U':20, 'V':7, 'W':7, 'X':3, 'Y':7, 'Z':1\n",
    "}\n",
    "\n"
   ]
  },
  {
   "cell_type": "code",
   "execution_count": 34,
   "metadata": {},
   "outputs": [],
   "source": [
    "def extract_letters(lst):\n",
    "    all_abbre = []\n",
    "    part = []\n",
    "    all_abbre.append(lst[0][0])\n",
    "    for each in lst:\n",
    "        first_out = each[1:]\n",
    "        part.append(first_out)\n",
    "    joined = ''.join(part)\n",
    "    joined = joined.replace(' ', '')\n",
    "    ind = uniq_ind(joined)\n",
    "    all_abbre.append(joined[ind[0]])\n",
    "    all_abbre.append(joined[ind[1]])\n",
    "    str_abb = ''.join(all_abbre)\n",
    "    return str_abb"
   ]
  },
  {
   "cell_type": "code",
   "execution_count": 35,
   "metadata": {},
   "outputs": [],
   "source": [
    "def extract_letters(lst):\n",
    "    all_abbre = []\n",
    "    part = []\n",
    "    all_abbre.append(lst[0][0])\n",
    "    for each in lst:\n",
    "        first_out = each[1:]\n",
    "        part.append(first_out)\n",
    "    joined = ''.join(part)\n",
    "    joined = joined.replace(' ', '')\n",
    "    for num in range(2):\n",
    "        ind = random.randint(0,len(joined)-1)\n",
    "        rand_letter = joined[ind]\n",
    "        all_abbre.append(rand_letter)\n",
    "    str_abb = ''.join(all_abbre)\n",
    "    \n",
    "    return str_abb"
   ]
  },
  {
   "cell_type": "code",
   "execution_count": 36,
   "metadata": {},
   "outputs": [
    {
     "data": {
      "text/plain": [
       "'BNO'"
      ]
     },
     "execution_count": 36,
     "metadata": {},
     "output_type": "execute_result"
    }
   ],
   "source": [
    "vc = ['BEST', 'SELLING', 'BOOK']\n",
    "extract_letters(vc)"
   ]
  },
  {
   "cell_type": "code",
   "execution_count": 37,
   "metadata": {},
   "outputs": [
    {
     "data": {
      "text/plain": [
       "'BET'"
      ]
     },
     "execution_count": 37,
     "metadata": {},
     "output_type": "execute_result"
    }
   ],
   "source": [
    "vc = ['BEST']\n",
    "extract_letters(vc)"
   ]
  },
  {
   "cell_type": "code",
   "execution_count": 38,
   "metadata": {},
   "outputs": [],
   "source": [
    "def extract_letters(lst):\n",
    "    all_abbre = []\n",
    "    part = []\n",
    "    all_abbre.append(lst[0][0])\n",
    "    for each in lst:\n",
    "        first_out = each[1:]\n",
    "        part.append(first_out)\n",
    "    joined = ''.join(part)\n",
    "    joined = joined.replace(' ', '')\n",
    "    # ind = uniq_ind(joined)\n",
    "    # all_abbre.append(joined[ind[0]])\n",
    "    # all_abbre.append(joined[ind[1]])\n",
    "    # str_abb = ''.join(all_abbre)\n",
    "    # return str_abb"
   ]
  },
  {
   "cell_type": "code",
   "execution_count": null,
   "metadata": {},
   "outputs": [],
   "source": []
  },
  {
   "cell_type": "code",
   "execution_count": null,
   "metadata": {},
   "outputs": [],
   "source": []
  },
  {
   "cell_type": "code",
   "execution_count": null,
   "metadata": {},
   "outputs": [],
   "source": []
  },
  {
   "cell_type": "code",
   "execution_count": 39,
   "metadata": {},
   "outputs": [
    {
     "data": {
      "text/plain": [
       "'BLL'"
      ]
     },
     "execution_count": 39,
     "metadata": {},
     "output_type": "execute_result"
    }
   ],
   "source": [
    "vc = ['BEST SELLING']\n",
    "\n",
    "all_abbre = []\n",
    "part = []\n",
    "\n",
    "all_abbre.append(vc[0][0])\n",
    "for f in vc:\n",
    "    first_out = f[1:]\n",
    "    part.append(first_out)\n",
    "joined = ''.join(part)\n",
    "joined = joined.replace(' ', '')\n",
    "for num in range(2):\n",
    "    ind = random.randint(0, len(joined)-1)\n",
    "    rand_letter = joined[ind]\n",
    "    all_abbre.append(rand_letter)\n",
    "    \n",
    "string_abb = ''.join(all_abbre)\n",
    "string_abb"
   ]
  },
  {
   "cell_type": "code",
   "execution_count": 40,
   "metadata": {},
   "outputs": [],
   "source": [
    "def uniq_ind(joined_word):\n",
    "    index = []\n",
    "    gen = random.randint(0, len(joined_word)-1)\n",
    "    for x in range(2):\n",
    "        while gen in index:\n",
    "            gen = random.randint(0, len(joined_word)-1)\n",
    "        index.append(gen)\n",
    "    index.sort()\n",
    "    \n",
    "    return index\n",
    "    "
   ]
  },
  {
   "cell_type": "code",
   "execution_count": 41,
   "metadata": {},
   "outputs": [
    {
     "data": {
      "text/plain": [
       "'BEI'"
      ]
     },
     "execution_count": 41,
     "metadata": {},
     "output_type": "execute_result"
    }
   ],
   "source": [
    "vc = ['BEST SELLING']\n",
    "\n",
    "all_abbre = []\n",
    "part = []\n",
    "\n",
    "all_abbre.append(vc[0][0])\n",
    "for f in vc:\n",
    "    first_out = f[1:]\n",
    "    part.append(first_out)\n",
    "joined = ''.join(part)\n",
    "joined = joined.replace(' ', '')\n",
    "ind = uniq_ind(joined)\n",
    "all_abbre.append(joined[ind[0]])\n",
    "all_abbre.append(joined[ind[1]])\n",
    "all_abbre\n",
    "\n",
    "\n",
    "# for num in range(2):\n",
    "#     ind = random.randint(0, len(joined)-1)\n",
    "#     rand_letter = joined[ind]\n",
    "#     all_abbre.append(rand_letter)\n",
    "    \n",
    "string_abb = ''.join(all_abbre)\n",
    "string_abb"
   ]
  },
  {
   "cell_type": "code",
   "execution_count": 42,
   "metadata": {},
   "outputs": [
    {
     "data": {
      "text/plain": [
       "[2, 8]"
      ]
     },
     "execution_count": 42,
     "metadata": {},
     "output_type": "execute_result"
    }
   ],
   "source": [
    "uniq_ind(joined)"
   ]
  },
  {
   "cell_type": "code",
   "execution_count": 43,
   "metadata": {},
   "outputs": [
    {
     "name": "stdout",
     "output_type": "stream",
     "text": [
      "[1, 2, 3]\n"
     ]
    }
   ],
   "source": [
    "listvar = [random.randint(0,3) for _ in range(3)]\n",
    "listvar.sort()\n",
    "print(listvar)"
   ]
  },
  {
   "cell_type": "code",
   "execution_count": 44,
   "metadata": {},
   "outputs": [
    {
     "data": {
      "text/html": [
       "<div>\n",
       "<style scoped>\n",
       "    .dataframe tbody tr th:only-of-type {\n",
       "        vertical-align: middle;\n",
       "    }\n",
       "\n",
       "    .dataframe tbody tr th {\n",
       "        vertical-align: top;\n",
       "    }\n",
       "\n",
       "    .dataframe thead th {\n",
       "        text-align: right;\n",
       "    }\n",
       "</style>\n",
       "<table border=\"1\" class=\"dataframe\">\n",
       "  <thead>\n",
       "    <tr style=\"text-align: right;\">\n",
       "      <th></th>\n",
       "      <th>Object-oriented programming</th>\n",
       "    </tr>\n",
       "  </thead>\n",
       "  <tbody>\n",
       "    <tr>\n",
       "      <th>0</th>\n",
       "      <td>Moore’s Law</td>\n",
       "    </tr>\n",
       "    <tr>\n",
       "      <th>1</th>\n",
       "      <td>Data Engineering</td>\n",
       "    </tr>\n",
       "    <tr>\n",
       "      <th>2</th>\n",
       "      <td>Cold</td>\n",
       "    </tr>\n",
       "    <tr>\n",
       "      <th>3</th>\n",
       "      <td>Cool</td>\n",
       "    </tr>\n",
       "    <tr>\n",
       "      <th>4</th>\n",
       "      <td>C++ Code</td>\n",
       "    </tr>\n",
       "    <tr>\n",
       "      <th>5</th>\n",
       "      <td>Object-oriented programming</td>\n",
       "    </tr>\n",
       "    <tr>\n",
       "      <th>6</th>\n",
       "      <td>Best_selling Book</td>\n",
       "    </tr>\n",
       "    <tr>\n",
       "      <th>7</th>\n",
       "      <td>Data Engineering</td>\n",
       "    </tr>\n",
       "    <tr>\n",
       "      <th>8</th>\n",
       "      <td>English</td>\n",
       "    </tr>\n",
       "  </tbody>\n",
       "</table>\n",
       "</div>"
      ],
      "text/plain": [
       "   Object-oriented programming\n",
       "0                  Moore’s Law\n",
       "1             Data Engineering\n",
       "2                         Cold\n",
       "3                         Cool\n",
       "4                     C++ Code\n",
       "5  Object-oriented programming\n",
       "6            Best_selling Book\n",
       "7             Data Engineering\n",
       "8                      English"
      ]
     },
     "execution_count": 44,
     "metadata": {},
     "output_type": "execute_result"
    }
   ],
   "source": [
    "text = pd.read_fwf(\"experiment.txt\")\n",
    "text"
   ]
  },
  {
   "cell_type": "code",
   "execution_count": 45,
   "metadata": {},
   "outputs": [],
   "source": [
    "def punctuation(filename):\n",
    "    \n",
    "    with open(filename, mode='r') as f:\n",
    "        s = ''\n",
    "        punctuations = '''.,;:!?'''\n",
    "        text = f.read()\n",
    "        words = text.split()\n",
    "        for line in text:\n",
    "            if line in set(punctuations):\n",
    "                    s += line\n",
    "    return s"
   ]
  },
  {
   "cell_type": "code",
   "execution_count": 46,
   "metadata": {},
   "outputs": [],
   "source": [
    "a = punctuation('experiment.txt')"
   ]
  },
  {
   "cell_type": "code",
   "execution_count": null,
   "metadata": {},
   "outputs": [],
   "source": []
  }
 ],
 "metadata": {
  "kernelspec": {
   "display_name": "Python 3.10.6 64-bit",
   "language": "python",
   "name": "python3"
  },
  "language_info": {
   "codemirror_mode": {
    "name": "ipython",
    "version": 3
   },
   "file_extension": ".py",
   "mimetype": "text/x-python",
   "name": "python",
   "nbconvert_exporter": "python",
   "pygments_lexer": "ipython3",
   "version": "3.10.6"
  },
  "orig_nbformat": 4,
  "vscode": {
   "interpreter": {
    "hash": "428a2680e134346dc6a50eeb15b5601ea447c297abbe5316187818ea532ba498"
   }
  }
 },
 "nbformat": 4,
 "nbformat_minor": 2
}
