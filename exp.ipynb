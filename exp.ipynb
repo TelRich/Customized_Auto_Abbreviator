{
 "cells": [
  {
   "cell_type": "code",
   "execution_count": 3,
   "metadata": {},
   "outputs": [],
   "source": [
    "import abbrev_script"
   ]
  },
  {
   "cell_type": "code",
   "execution_count": 5,
   "metadata": {},
   "outputs": [],
   "source": [
    "abbrev_script.Abbreviator('names.txt')"
   ]
  },
  {
   "cell_type": "markdown",
   "metadata": {},
   "source": [
    "### Program Description\n",
    "\n",
    "The function I generated was designed to solve the task given. \n",
    "\n",
    "The task is to read a file containing a list of names of some kind and generate three-letter abbreviations of each of these objects satisfying certain rules such as abbreviations cosisting only of upper case, all apostrophes (') ignored, each abbreviation consist of the first letter of the name followed by two further letters from the name, and others.\n",
    "\n",
    "First, I created a function (remove_punctuation) to remove any apostrophes from each names in the text file being read and returns a new list of names.\n",
    "\n",
    "Some names are two words, while some have a compound word with a seperator that should be splitted into separate words. A function (seperate_compound) was created to handle such names. It will split the word by the non-letter character and return a list of the names splitted. For names that are single or doesn't have a non-letter character joining it, the function returns a list of the name.\n",
    "\n",
    "Our objective is to make abbreviations from the names which means letters are to be extracted from the name. A function (extract letters) was created to extract letters from the list of splitted words created by the previous function. It loops through the list of words, extract the first character, then randomly chose two further character in order. \n",
    "\n",
    "For the later function to successfully choose two further characters in order, a function (uniq_ind) to select unique index of other characters in ascending order was created. It goes through the remaining word after removing the first character and select two characters index number which is then used in the previous function to select the characters.\n",
    "\n",
    "All the above functions was used on the content of the text file by running a for loop after removing all apostrophes. The name and its abbreviation was written to a new file that has the combination of my surname and the filename as requested."
   ]
  }
 ],
 "metadata": {
  "kernelspec": {
   "display_name": "Python 3.10.6 64-bit",
   "language": "python",
   "name": "python3"
  },
  "language_info": {
   "codemirror_mode": {
    "name": "ipython",
    "version": 3
   },
   "file_extension": ".py",
   "mimetype": "text/x-python",
   "name": "python",
   "nbconvert_exporter": "python",
   "pygments_lexer": "ipython3",
   "version": "3.10.6"
  },
  "orig_nbformat": 4,
  "vscode": {
   "interpreter": {
    "hash": "428a2680e134346dc6a50eeb15b5601ea447c297abbe5316187818ea532ba498"
   }
  }
 },
 "nbformat": 4,
 "nbformat_minor": 2
}
